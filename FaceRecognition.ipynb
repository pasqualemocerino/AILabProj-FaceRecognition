{
  "nbformat": 4,
  "nbformat_minor": 0,
  "metadata": {
    "colab": {
      "name": "FaceRecognition.ipynb",
      "provenance": [],
      "collapsed_sections": [
        "P-_hYxaxyaiW"
      ],
      "authorship_tag": "ABX9TyMMgoOxDzYUunJ/DWDYgSvM",
      "include_colab_link": true
    },
    "kernelspec": {
      "name": "python3",
      "display_name": "Python 3"
    },
    "language_info": {
      "name": "python"
    },
    "gpuClass": "standard",
    "accelerator": "GPU",
    "widgets": {
      "application/vnd.jupyter.widget-state+json": {
        "a9fd1b553412432180098087b16f3db4": {
          "model_module": "@jupyter-widgets/controls",
          "model_name": "HBoxModel",
          "model_module_version": "1.5.0",
          "state": {
            "_dom_classes": [],
            "_model_module": "@jupyter-widgets/controls",
            "_model_module_version": "1.5.0",
            "_model_name": "HBoxModel",
            "_view_count": null,
            "_view_module": "@jupyter-widgets/controls",
            "_view_module_version": "1.5.0",
            "_view_name": "HBoxView",
            "box_style": "",
            "children": [
              "IPY_MODEL_47d1b806edcd4cad8b04e768fa8fbfa4",
              "IPY_MODEL_9803f424125c45d4af20e288583028b6",
              "IPY_MODEL_81357d6c02d943449cb707289a37b17c"
            ],
            "layout": "IPY_MODEL_02a984a86e8040228f5e99899d41b73f"
          }
        },
        "47d1b806edcd4cad8b04e768fa8fbfa4": {
          "model_module": "@jupyter-widgets/controls",
          "model_name": "HTMLModel",
          "model_module_version": "1.5.0",
          "state": {
            "_dom_classes": [],
            "_model_module": "@jupyter-widgets/controls",
            "_model_module_version": "1.5.0",
            "_model_name": "HTMLModel",
            "_view_count": null,
            "_view_module": "@jupyter-widgets/controls",
            "_view_module_version": "1.5.0",
            "_view_name": "HTMLView",
            "description": "",
            "description_tooltip": null,
            "layout": "IPY_MODEL_47026c36638f44ec9156f31da905a457",
            "placeholder": "​",
            "style": "IPY_MODEL_48b05e39c25e4a9e8083259451bbd2a2",
            "value": "100%"
          }
        },
        "9803f424125c45d4af20e288583028b6": {
          "model_module": "@jupyter-widgets/controls",
          "model_name": "FloatProgressModel",
          "model_module_version": "1.5.0",
          "state": {
            "_dom_classes": [],
            "_model_module": "@jupyter-widgets/controls",
            "_model_module_version": "1.5.0",
            "_model_name": "FloatProgressModel",
            "_view_count": null,
            "_view_module": "@jupyter-widgets/controls",
            "_view_module_version": "1.5.0",
            "_view_name": "ProgressView",
            "bar_style": "success",
            "description": "",
            "description_tooltip": null,
            "layout": "IPY_MODEL_034fe2811cdc4d43b0ecf33bd0b37f7e",
            "max": 66403,
            "min": 0,
            "orientation": "horizontal",
            "style": "IPY_MODEL_bdd9f82781f341959336c6b79a3776bd",
            "value": 66403
          }
        },
        "81357d6c02d943449cb707289a37b17c": {
          "model_module": "@jupyter-widgets/controls",
          "model_name": "HTMLModel",
          "model_module_version": "1.5.0",
          "state": {
            "_dom_classes": [],
            "_model_module": "@jupyter-widgets/controls",
            "_model_module_version": "1.5.0",
            "_model_name": "HTMLModel",
            "_view_count": null,
            "_view_module": "@jupyter-widgets/controls",
            "_view_module_version": "1.5.0",
            "_view_name": "HTMLView",
            "description": "",
            "description_tooltip": null,
            "layout": "IPY_MODEL_f3ab1d9a44744769bbdb0b6d8e6bdb63",
            "placeholder": "​",
            "style": "IPY_MODEL_e54ea395868849fda9f326441c6d3ad4",
            "value": " 66403/66403 [00:00&lt;00:00, 445651.60it/s]"
          }
        },
        "02a984a86e8040228f5e99899d41b73f": {
          "model_module": "@jupyter-widgets/base",
          "model_name": "LayoutModel",
          "model_module_version": "1.2.0",
          "state": {
            "_model_module": "@jupyter-widgets/base",
            "_model_module_version": "1.2.0",
            "_model_name": "LayoutModel",
            "_view_count": null,
            "_view_module": "@jupyter-widgets/base",
            "_view_module_version": "1.2.0",
            "_view_name": "LayoutView",
            "align_content": null,
            "align_items": null,
            "align_self": null,
            "border": null,
            "bottom": null,
            "display": null,
            "flex": null,
            "flex_flow": null,
            "grid_area": null,
            "grid_auto_columns": null,
            "grid_auto_flow": null,
            "grid_auto_rows": null,
            "grid_column": null,
            "grid_gap": null,
            "grid_row": null,
            "grid_template_areas": null,
            "grid_template_columns": null,
            "grid_template_rows": null,
            "height": null,
            "justify_content": null,
            "justify_items": null,
            "left": null,
            "margin": null,
            "max_height": null,
            "max_width": null,
            "min_height": null,
            "min_width": null,
            "object_fit": null,
            "object_position": null,
            "order": null,
            "overflow": null,
            "overflow_x": null,
            "overflow_y": null,
            "padding": null,
            "right": null,
            "top": null,
            "visibility": null,
            "width": null
          }
        },
        "47026c36638f44ec9156f31da905a457": {
          "model_module": "@jupyter-widgets/base",
          "model_name": "LayoutModel",
          "model_module_version": "1.2.0",
          "state": {
            "_model_module": "@jupyter-widgets/base",
            "_model_module_version": "1.2.0",
            "_model_name": "LayoutModel",
            "_view_count": null,
            "_view_module": "@jupyter-widgets/base",
            "_view_module_version": "1.2.0",
            "_view_name": "LayoutView",
            "align_content": null,
            "align_items": null,
            "align_self": null,
            "border": null,
            "bottom": null,
            "display": null,
            "flex": null,
            "flex_flow": null,
            "grid_area": null,
            "grid_auto_columns": null,
            "grid_auto_flow": null,
            "grid_auto_rows": null,
            "grid_column": null,
            "grid_gap": null,
            "grid_row": null,
            "grid_template_areas": null,
            "grid_template_columns": null,
            "grid_template_rows": null,
            "height": null,
            "justify_content": null,
            "justify_items": null,
            "left": null,
            "margin": null,
            "max_height": null,
            "max_width": null,
            "min_height": null,
            "min_width": null,
            "object_fit": null,
            "object_position": null,
            "order": null,
            "overflow": null,
            "overflow_x": null,
            "overflow_y": null,
            "padding": null,
            "right": null,
            "top": null,
            "visibility": null,
            "width": null
          }
        },
        "48b05e39c25e4a9e8083259451bbd2a2": {
          "model_module": "@jupyter-widgets/controls",
          "model_name": "DescriptionStyleModel",
          "model_module_version": "1.5.0",
          "state": {
            "_model_module": "@jupyter-widgets/controls",
            "_model_module_version": "1.5.0",
            "_model_name": "DescriptionStyleModel",
            "_view_count": null,
            "_view_module": "@jupyter-widgets/base",
            "_view_module_version": "1.2.0",
            "_view_name": "StyleView",
            "description_width": ""
          }
        },
        "034fe2811cdc4d43b0ecf33bd0b37f7e": {
          "model_module": "@jupyter-widgets/base",
          "model_name": "LayoutModel",
          "model_module_version": "1.2.0",
          "state": {
            "_model_module": "@jupyter-widgets/base",
            "_model_module_version": "1.2.0",
            "_model_name": "LayoutModel",
            "_view_count": null,
            "_view_module": "@jupyter-widgets/base",
            "_view_module_version": "1.2.0",
            "_view_name": "LayoutView",
            "align_content": null,
            "align_items": null,
            "align_self": null,
            "border": null,
            "bottom": null,
            "display": null,
            "flex": null,
            "flex_flow": null,
            "grid_area": null,
            "grid_auto_columns": null,
            "grid_auto_flow": null,
            "grid_auto_rows": null,
            "grid_column": null,
            "grid_gap": null,
            "grid_row": null,
            "grid_template_areas": null,
            "grid_template_columns": null,
            "grid_template_rows": null,
            "height": null,
            "justify_content": null,
            "justify_items": null,
            "left": null,
            "margin": null,
            "max_height": null,
            "max_width": null,
            "min_height": null,
            "min_width": null,
            "object_fit": null,
            "object_position": null,
            "order": null,
            "overflow": null,
            "overflow_x": null,
            "overflow_y": null,
            "padding": null,
            "right": null,
            "top": null,
            "visibility": null,
            "width": null
          }
        },
        "bdd9f82781f341959336c6b79a3776bd": {
          "model_module": "@jupyter-widgets/controls",
          "model_name": "ProgressStyleModel",
          "model_module_version": "1.5.0",
          "state": {
            "_model_module": "@jupyter-widgets/controls",
            "_model_module_version": "1.5.0",
            "_model_name": "ProgressStyleModel",
            "_view_count": null,
            "_view_module": "@jupyter-widgets/base",
            "_view_module_version": "1.2.0",
            "_view_name": "StyleView",
            "bar_color": null,
            "description_width": ""
          }
        },
        "f3ab1d9a44744769bbdb0b6d8e6bdb63": {
          "model_module": "@jupyter-widgets/base",
          "model_name": "LayoutModel",
          "model_module_version": "1.2.0",
          "state": {
            "_model_module": "@jupyter-widgets/base",
            "_model_module_version": "1.2.0",
            "_model_name": "LayoutModel",
            "_view_count": null,
            "_view_module": "@jupyter-widgets/base",
            "_view_module_version": "1.2.0",
            "_view_name": "LayoutView",
            "align_content": null,
            "align_items": null,
            "align_self": null,
            "border": null,
            "bottom": null,
            "display": null,
            "flex": null,
            "flex_flow": null,
            "grid_area": null,
            "grid_auto_columns": null,
            "grid_auto_flow": null,
            "grid_auto_rows": null,
            "grid_column": null,
            "grid_gap": null,
            "grid_row": null,
            "grid_template_areas": null,
            "grid_template_columns": null,
            "grid_template_rows": null,
            "height": null,
            "justify_content": null,
            "justify_items": null,
            "left": null,
            "margin": null,
            "max_height": null,
            "max_width": null,
            "min_height": null,
            "min_width": null,
            "object_fit": null,
            "object_position": null,
            "order": null,
            "overflow": null,
            "overflow_x": null,
            "overflow_y": null,
            "padding": null,
            "right": null,
            "top": null,
            "visibility": null,
            "width": null
          }
        },
        "e54ea395868849fda9f326441c6d3ad4": {
          "model_module": "@jupyter-widgets/controls",
          "model_name": "DescriptionStyleModel",
          "model_module_version": "1.5.0",
          "state": {
            "_model_module": "@jupyter-widgets/controls",
            "_model_module_version": "1.5.0",
            "_model_name": "DescriptionStyleModel",
            "_view_count": null,
            "_view_module": "@jupyter-widgets/base",
            "_view_module_version": "1.2.0",
            "_view_name": "StyleView",
            "description_width": ""
          }
        },
        "ec6a7d702557449e84a5f5fe63921cea": {
          "model_module": "@jupyter-widgets/controls",
          "model_name": "HBoxModel",
          "model_module_version": "1.5.0",
          "state": {
            "_dom_classes": [],
            "_model_module": "@jupyter-widgets/controls",
            "_model_module_version": "1.5.0",
            "_model_name": "HBoxModel",
            "_view_count": null,
            "_view_module": "@jupyter-widgets/controls",
            "_view_module_version": "1.5.0",
            "_view_name": "HBoxView",
            "box_style": "",
            "children": [
              "IPY_MODEL_0f96050c4209403187d60c0115d5a6cb",
              "IPY_MODEL_22bc206b4c0946209f78846a9a2f3c47",
              "IPY_MODEL_8e0ca2d4113f4fe3b710b523e59a0118"
            ],
            "layout": "IPY_MODEL_b2e0fefc2b5a44d494c82710fd9a3c1e"
          }
        },
        "0f96050c4209403187d60c0115d5a6cb": {
          "model_module": "@jupyter-widgets/controls",
          "model_name": "HTMLModel",
          "model_module_version": "1.5.0",
          "state": {
            "_dom_classes": [],
            "_model_module": "@jupyter-widgets/controls",
            "_model_module_version": "1.5.0",
            "_model_name": "HTMLModel",
            "_view_count": null,
            "_view_module": "@jupyter-widgets/controls",
            "_view_module_version": "1.5.0",
            "_view_name": "HTMLView",
            "description": "",
            "description_tooltip": null,
            "layout": "IPY_MODEL_13d53f56a89e43a38242cb846ab3f52c",
            "placeholder": "​",
            "style": "IPY_MODEL_8cc07742ea4449e4ade35db463594bbd",
            "value": "100%"
          }
        },
        "22bc206b4c0946209f78846a9a2f3c47": {
          "model_module": "@jupyter-widgets/controls",
          "model_name": "FloatProgressModel",
          "model_module_version": "1.5.0",
          "state": {
            "_dom_classes": [],
            "_model_module": "@jupyter-widgets/controls",
            "_model_module_version": "1.5.0",
            "_model_name": "FloatProgressModel",
            "_view_count": null,
            "_view_module": "@jupyter-widgets/controls",
            "_view_module_version": "1.5.0",
            "_view_name": "ProgressView",
            "bar_style": "success",
            "description": "",
            "description_tooltip": null,
            "layout": "IPY_MODEL_272ef38f500844d692e6a5487d41fce0",
            "max": 94727,
            "min": 0,
            "orientation": "horizontal",
            "style": "IPY_MODEL_07ccf255f890431898c5b08bae6c640d",
            "value": 94727
          }
        },
        "8e0ca2d4113f4fe3b710b523e59a0118": {
          "model_module": "@jupyter-widgets/controls",
          "model_name": "HTMLModel",
          "model_module_version": "1.5.0",
          "state": {
            "_dom_classes": [],
            "_model_module": "@jupyter-widgets/controls",
            "_model_module_version": "1.5.0",
            "_model_name": "HTMLModel",
            "_view_count": null,
            "_view_module": "@jupyter-widgets/controls",
            "_view_module_version": "1.5.0",
            "_view_name": "HTMLView",
            "description": "",
            "description_tooltip": null,
            "layout": "IPY_MODEL_1c035d97f9364fb8941b56303c62112a",
            "placeholder": "​",
            "style": "IPY_MODEL_eeea0724e0b6495ab4051fd1da96d3fd",
            "value": " 94727/94727 [00:00&lt;00:00, 445208.41it/s]"
          }
        },
        "b2e0fefc2b5a44d494c82710fd9a3c1e": {
          "model_module": "@jupyter-widgets/base",
          "model_name": "LayoutModel",
          "model_module_version": "1.2.0",
          "state": {
            "_model_module": "@jupyter-widgets/base",
            "_model_module_version": "1.2.0",
            "_model_name": "LayoutModel",
            "_view_count": null,
            "_view_module": "@jupyter-widgets/base",
            "_view_module_version": "1.2.0",
            "_view_name": "LayoutView",
            "align_content": null,
            "align_items": null,
            "align_self": null,
            "border": null,
            "bottom": null,
            "display": null,
            "flex": null,
            "flex_flow": null,
            "grid_area": null,
            "grid_auto_columns": null,
            "grid_auto_flow": null,
            "grid_auto_rows": null,
            "grid_column": null,
            "grid_gap": null,
            "grid_row": null,
            "grid_template_areas": null,
            "grid_template_columns": null,
            "grid_template_rows": null,
            "height": null,
            "justify_content": null,
            "justify_items": null,
            "left": null,
            "margin": null,
            "max_height": null,
            "max_width": null,
            "min_height": null,
            "min_width": null,
            "object_fit": null,
            "object_position": null,
            "order": null,
            "overflow": null,
            "overflow_x": null,
            "overflow_y": null,
            "padding": null,
            "right": null,
            "top": null,
            "visibility": null,
            "width": null
          }
        },
        "13d53f56a89e43a38242cb846ab3f52c": {
          "model_module": "@jupyter-widgets/base",
          "model_name": "LayoutModel",
          "model_module_version": "1.2.0",
          "state": {
            "_model_module": "@jupyter-widgets/base",
            "_model_module_version": "1.2.0",
            "_model_name": "LayoutModel",
            "_view_count": null,
            "_view_module": "@jupyter-widgets/base",
            "_view_module_version": "1.2.0",
            "_view_name": "LayoutView",
            "align_content": null,
            "align_items": null,
            "align_self": null,
            "border": null,
            "bottom": null,
            "display": null,
            "flex": null,
            "flex_flow": null,
            "grid_area": null,
            "grid_auto_columns": null,
            "grid_auto_flow": null,
            "grid_auto_rows": null,
            "grid_column": null,
            "grid_gap": null,
            "grid_row": null,
            "grid_template_areas": null,
            "grid_template_columns": null,
            "grid_template_rows": null,
            "height": null,
            "justify_content": null,
            "justify_items": null,
            "left": null,
            "margin": null,
            "max_height": null,
            "max_width": null,
            "min_height": null,
            "min_width": null,
            "object_fit": null,
            "object_position": null,
            "order": null,
            "overflow": null,
            "overflow_x": null,
            "overflow_y": null,
            "padding": null,
            "right": null,
            "top": null,
            "visibility": null,
            "width": null
          }
        },
        "8cc07742ea4449e4ade35db463594bbd": {
          "model_module": "@jupyter-widgets/controls",
          "model_name": "DescriptionStyleModel",
          "model_module_version": "1.5.0",
          "state": {
            "_model_module": "@jupyter-widgets/controls",
            "_model_module_version": "1.5.0",
            "_model_name": "DescriptionStyleModel",
            "_view_count": null,
            "_view_module": "@jupyter-widgets/base",
            "_view_module_version": "1.2.0",
            "_view_name": "StyleView",
            "description_width": ""
          }
        },
        "272ef38f500844d692e6a5487d41fce0": {
          "model_module": "@jupyter-widgets/base",
          "model_name": "LayoutModel",
          "model_module_version": "1.2.0",
          "state": {
            "_model_module": "@jupyter-widgets/base",
            "_model_module_version": "1.2.0",
            "_model_name": "LayoutModel",
            "_view_count": null,
            "_view_module": "@jupyter-widgets/base",
            "_view_module_version": "1.2.0",
            "_view_name": "LayoutView",
            "align_content": null,
            "align_items": null,
            "align_self": null,
            "border": null,
            "bottom": null,
            "display": null,
            "flex": null,
            "flex_flow": null,
            "grid_area": null,
            "grid_auto_columns": null,
            "grid_auto_flow": null,
            "grid_auto_rows": null,
            "grid_column": null,
            "grid_gap": null,
            "grid_row": null,
            "grid_template_areas": null,
            "grid_template_columns": null,
            "grid_template_rows": null,
            "height": null,
            "justify_content": null,
            "justify_items": null,
            "left": null,
            "margin": null,
            "max_height": null,
            "max_width": null,
            "min_height": null,
            "min_width": null,
            "object_fit": null,
            "object_position": null,
            "order": null,
            "overflow": null,
            "overflow_x": null,
            "overflow_y": null,
            "padding": null,
            "right": null,
            "top": null,
            "visibility": null,
            "width": null
          }
        },
        "07ccf255f890431898c5b08bae6c640d": {
          "model_module": "@jupyter-widgets/controls",
          "model_name": "ProgressStyleModel",
          "model_module_version": "1.5.0",
          "state": {
            "_model_module": "@jupyter-widgets/controls",
            "_model_module_version": "1.5.0",
            "_model_name": "ProgressStyleModel",
            "_view_count": null,
            "_view_module": "@jupyter-widgets/base",
            "_view_module_version": "1.2.0",
            "_view_name": "StyleView",
            "bar_color": null,
            "description_width": ""
          }
        },
        "1c035d97f9364fb8941b56303c62112a": {
          "model_module": "@jupyter-widgets/base",
          "model_name": "LayoutModel",
          "model_module_version": "1.2.0",
          "state": {
            "_model_module": "@jupyter-widgets/base",
            "_model_module_version": "1.2.0",
            "_model_name": "LayoutModel",
            "_view_count": null,
            "_view_module": "@jupyter-widgets/base",
            "_view_module_version": "1.2.0",
            "_view_name": "LayoutView",
            "align_content": null,
            "align_items": null,
            "align_self": null,
            "border": null,
            "bottom": null,
            "display": null,
            "flex": null,
            "flex_flow": null,
            "grid_area": null,
            "grid_auto_columns": null,
            "grid_auto_flow": null,
            "grid_auto_rows": null,
            "grid_column": null,
            "grid_gap": null,
            "grid_row": null,
            "grid_template_areas": null,
            "grid_template_columns": null,
            "grid_template_rows": null,
            "height": null,
            "justify_content": null,
            "justify_items": null,
            "left": null,
            "margin": null,
            "max_height": null,
            "max_width": null,
            "min_height": null,
            "min_width": null,
            "object_fit": null,
            "object_position": null,
            "order": null,
            "overflow": null,
            "overflow_x": null,
            "overflow_y": null,
            "padding": null,
            "right": null,
            "top": null,
            "visibility": null,
            "width": null
          }
        },
        "eeea0724e0b6495ab4051fd1da96d3fd": {
          "model_module": "@jupyter-widgets/controls",
          "model_name": "DescriptionStyleModel",
          "model_module_version": "1.5.0",
          "state": {
            "_model_module": "@jupyter-widgets/controls",
            "_model_module_version": "1.5.0",
            "_model_name": "DescriptionStyleModel",
            "_view_count": null,
            "_view_module": "@jupyter-widgets/base",
            "_view_module_version": "1.2.0",
            "_view_name": "StyleView",
            "description_width": ""
          }
        },
        "fbcead8183eb4b00b2105f310323fe1e": {
          "model_module": "@jupyter-widgets/controls",
          "model_name": "HBoxModel",
          "model_module_version": "1.5.0",
          "state": {
            "_dom_classes": [],
            "_model_module": "@jupyter-widgets/controls",
            "_model_module_version": "1.5.0",
            "_model_name": "HBoxModel",
            "_view_count": null,
            "_view_module": "@jupyter-widgets/controls",
            "_view_module_version": "1.5.0",
            "_view_name": "HBoxView",
            "box_style": "",
            "children": [
              "IPY_MODEL_a32b2b3900f949a09f9f705dc7d13bc6",
              "IPY_MODEL_60f15895aa3e47efbf16fb788adad66b",
              "IPY_MODEL_ea0318fbfd204693a50b03f387a914c7"
            ],
            "layout": "IPY_MODEL_f1231be342524d2db1f4c6948cf9d579"
          }
        },
        "a32b2b3900f949a09f9f705dc7d13bc6": {
          "model_module": "@jupyter-widgets/controls",
          "model_name": "HTMLModel",
          "model_module_version": "1.5.0",
          "state": {
            "_dom_classes": [],
            "_model_module": "@jupyter-widgets/controls",
            "_model_module_version": "1.5.0",
            "_model_name": "HTMLModel",
            "_view_count": null,
            "_view_module": "@jupyter-widgets/controls",
            "_view_module_version": "1.5.0",
            "_view_name": "HTMLView",
            "description": "",
            "description_tooltip": null,
            "layout": "IPY_MODEL_9f82a22750844e3f89bae8a4727ac97c",
            "placeholder": "​",
            "style": "IPY_MODEL_87226ec6e78e4da0bf8f5eff47d48218",
            "value": "100%"
          }
        },
        "60f15895aa3e47efbf16fb788adad66b": {
          "model_module": "@jupyter-widgets/controls",
          "model_name": "FloatProgressModel",
          "model_module_version": "1.5.0",
          "state": {
            "_dom_classes": [],
            "_model_module": "@jupyter-widgets/controls",
            "_model_module_version": "1.5.0",
            "_model_name": "FloatProgressModel",
            "_view_count": null,
            "_view_module": "@jupyter-widgets/controls",
            "_view_module_version": "1.5.0",
            "_view_name": "ProgressView",
            "bar_style": "success",
            "description": "",
            "description_tooltip": null,
            "layout": "IPY_MODEL_bd2e856b2018411c8c27485bbeab9dc7",
            "max": 28334,
            "min": 0,
            "orientation": "horizontal",
            "style": "IPY_MODEL_29cd12ee393044eb9e281e7a691b10a1",
            "value": 28334
          }
        },
        "ea0318fbfd204693a50b03f387a914c7": {
          "model_module": "@jupyter-widgets/controls",
          "model_name": "HTMLModel",
          "model_module_version": "1.5.0",
          "state": {
            "_dom_classes": [],
            "_model_module": "@jupyter-widgets/controls",
            "_model_module_version": "1.5.0",
            "_model_name": "HTMLModel",
            "_view_count": null,
            "_view_module": "@jupyter-widgets/controls",
            "_view_module_version": "1.5.0",
            "_view_name": "HTMLView",
            "description": "",
            "description_tooltip": null,
            "layout": "IPY_MODEL_d6341c741da34a0d8bdae44ca7ad416c",
            "placeholder": "​",
            "style": "IPY_MODEL_3d538fb0e4904963a0ab51bdd2b86eab",
            "value": " 28334/28334 [00:00&lt;00:00, 384287.87it/s]"
          }
        },
        "f1231be342524d2db1f4c6948cf9d579": {
          "model_module": "@jupyter-widgets/base",
          "model_name": "LayoutModel",
          "model_module_version": "1.2.0",
          "state": {
            "_model_module": "@jupyter-widgets/base",
            "_model_module_version": "1.2.0",
            "_model_name": "LayoutModel",
            "_view_count": null,
            "_view_module": "@jupyter-widgets/base",
            "_view_module_version": "1.2.0",
            "_view_name": "LayoutView",
            "align_content": null,
            "align_items": null,
            "align_self": null,
            "border": null,
            "bottom": null,
            "display": null,
            "flex": null,
            "flex_flow": null,
            "grid_area": null,
            "grid_auto_columns": null,
            "grid_auto_flow": null,
            "grid_auto_rows": null,
            "grid_column": null,
            "grid_gap": null,
            "grid_row": null,
            "grid_template_areas": null,
            "grid_template_columns": null,
            "grid_template_rows": null,
            "height": null,
            "justify_content": null,
            "justify_items": null,
            "left": null,
            "margin": null,
            "max_height": null,
            "max_width": null,
            "min_height": null,
            "min_width": null,
            "object_fit": null,
            "object_position": null,
            "order": null,
            "overflow": null,
            "overflow_x": null,
            "overflow_y": null,
            "padding": null,
            "right": null,
            "top": null,
            "visibility": null,
            "width": null
          }
        },
        "9f82a22750844e3f89bae8a4727ac97c": {
          "model_module": "@jupyter-widgets/base",
          "model_name": "LayoutModel",
          "model_module_version": "1.2.0",
          "state": {
            "_model_module": "@jupyter-widgets/base",
            "_model_module_version": "1.2.0",
            "_model_name": "LayoutModel",
            "_view_count": null,
            "_view_module": "@jupyter-widgets/base",
            "_view_module_version": "1.2.0",
            "_view_name": "LayoutView",
            "align_content": null,
            "align_items": null,
            "align_self": null,
            "border": null,
            "bottom": null,
            "display": null,
            "flex": null,
            "flex_flow": null,
            "grid_area": null,
            "grid_auto_columns": null,
            "grid_auto_flow": null,
            "grid_auto_rows": null,
            "grid_column": null,
            "grid_gap": null,
            "grid_row": null,
            "grid_template_areas": null,
            "grid_template_columns": null,
            "grid_template_rows": null,
            "height": null,
            "justify_content": null,
            "justify_items": null,
            "left": null,
            "margin": null,
            "max_height": null,
            "max_width": null,
            "min_height": null,
            "min_width": null,
            "object_fit": null,
            "object_position": null,
            "order": null,
            "overflow": null,
            "overflow_x": null,
            "overflow_y": null,
            "padding": null,
            "right": null,
            "top": null,
            "visibility": null,
            "width": null
          }
        },
        "87226ec6e78e4da0bf8f5eff47d48218": {
          "model_module": "@jupyter-widgets/controls",
          "model_name": "DescriptionStyleModel",
          "model_module_version": "1.5.0",
          "state": {
            "_model_module": "@jupyter-widgets/controls",
            "_model_module_version": "1.5.0",
            "_model_name": "DescriptionStyleModel",
            "_view_count": null,
            "_view_module": "@jupyter-widgets/base",
            "_view_module_version": "1.2.0",
            "_view_name": "StyleView",
            "description_width": ""
          }
        },
        "bd2e856b2018411c8c27485bbeab9dc7": {
          "model_module": "@jupyter-widgets/base",
          "model_name": "LayoutModel",
          "model_module_version": "1.2.0",
          "state": {
            "_model_module": "@jupyter-widgets/base",
            "_model_module_version": "1.2.0",
            "_model_name": "LayoutModel",
            "_view_count": null,
            "_view_module": "@jupyter-widgets/base",
            "_view_module_version": "1.2.0",
            "_view_name": "LayoutView",
            "align_content": null,
            "align_items": null,
            "align_self": null,
            "border": null,
            "bottom": null,
            "display": null,
            "flex": null,
            "flex_flow": null,
            "grid_area": null,
            "grid_auto_columns": null,
            "grid_auto_flow": null,
            "grid_auto_rows": null,
            "grid_column": null,
            "grid_gap": null,
            "grid_row": null,
            "grid_template_areas": null,
            "grid_template_columns": null,
            "grid_template_rows": null,
            "height": null,
            "justify_content": null,
            "justify_items": null,
            "left": null,
            "margin": null,
            "max_height": null,
            "max_width": null,
            "min_height": null,
            "min_width": null,
            "object_fit": null,
            "object_position": null,
            "order": null,
            "overflow": null,
            "overflow_x": null,
            "overflow_y": null,
            "padding": null,
            "right": null,
            "top": null,
            "visibility": null,
            "width": null
          }
        },
        "29cd12ee393044eb9e281e7a691b10a1": {
          "model_module": "@jupyter-widgets/controls",
          "model_name": "ProgressStyleModel",
          "model_module_version": "1.5.0",
          "state": {
            "_model_module": "@jupyter-widgets/controls",
            "_model_module_version": "1.5.0",
            "_model_name": "ProgressStyleModel",
            "_view_count": null,
            "_view_module": "@jupyter-widgets/base",
            "_view_module_version": "1.2.0",
            "_view_name": "StyleView",
            "bar_color": null,
            "description_width": ""
          }
        },
        "d6341c741da34a0d8bdae44ca7ad416c": {
          "model_module": "@jupyter-widgets/base",
          "model_name": "LayoutModel",
          "model_module_version": "1.2.0",
          "state": {
            "_model_module": "@jupyter-widgets/base",
            "_model_module_version": "1.2.0",
            "_model_name": "LayoutModel",
            "_view_count": null,
            "_view_module": "@jupyter-widgets/base",
            "_view_module_version": "1.2.0",
            "_view_name": "LayoutView",
            "align_content": null,
            "align_items": null,
            "align_self": null,
            "border": null,
            "bottom": null,
            "display": null,
            "flex": null,
            "flex_flow": null,
            "grid_area": null,
            "grid_auto_columns": null,
            "grid_auto_flow": null,
            "grid_auto_rows": null,
            "grid_column": null,
            "grid_gap": null,
            "grid_row": null,
            "grid_template_areas": null,
            "grid_template_columns": null,
            "grid_template_rows": null,
            "height": null,
            "justify_content": null,
            "justify_items": null,
            "left": null,
            "margin": null,
            "max_height": null,
            "max_width": null,
            "min_height": null,
            "min_width": null,
            "object_fit": null,
            "object_position": null,
            "order": null,
            "overflow": null,
            "overflow_x": null,
            "overflow_y": null,
            "padding": null,
            "right": null,
            "top": null,
            "visibility": null,
            "width": null
          }
        },
        "3d538fb0e4904963a0ab51bdd2b86eab": {
          "model_module": "@jupyter-widgets/controls",
          "model_name": "DescriptionStyleModel",
          "model_module_version": "1.5.0",
          "state": {
            "_model_module": "@jupyter-widgets/controls",
            "_model_module_version": "1.5.0",
            "_model_name": "DescriptionStyleModel",
            "_view_count": null,
            "_view_module": "@jupyter-widgets/base",
            "_view_module_version": "1.2.0",
            "_view_name": "StyleView",
            "description_width": ""
          }
        }
      }
    }
  },
  "cells": [
    {
      "cell_type": "markdown",
      "metadata": {
        "id": "view-in-github",
        "colab_type": "text"
      },
      "source": [
        "<a href=\"https://colab.research.google.com/github/pasqualemocerino/AILabProj-FaceRecognition/blob/main/FaceRecognition.ipynb\" target=\"_parent\"><img src=\"https://colab.research.google.com/assets/colab-badge.svg\" alt=\"Open In Colab\"/></a>"
      ]
    },
    {
      "cell_type": "markdown",
      "source": [
        "#Face Recognition\n",
        "Face Recogniton is a form of biometrics, the science which deals with the automated recognition of individuals based on biological and behavioral characteristics. It is included in physiological or static biometrics, based on data derived from the measurement of a part of a person's anatomy.\n",
        "The main purpose is the authentication of the subject, which follows identification and is based on proving the previously declared identity.\n",
        "\n",
        "We will later discuss about the advantages and disadvantages of this mechanism, analysing the requirements for an ideal biometric identifier: Universality, Uniqueness, Performance, Collectability, Acceptability.\n",
        "\n",
        "Face Recognition or Face Identification is: given the picture of the face of an unknown person, identify the name of the person by referring to a gallery of previously seen pictures of identified persons.\n"
      ],
      "metadata": {
        "id": "ey0_FL5hqG0x"
      }
    },
    {
      "cell_type": "markdown",
      "source": [
        "###About the dataset\n",
        "Labeled Faces in the Wild (LFW) is an image dataset containing face photographs, collected especially for studying the problem of unconstrained face recognition. It includes over 13,000 images of faces collected from across the web. Here are key aspects of these images.\n",
        "\n",
        "Each face in this data set was labeled with the person’s name in the image.\n",
        "1680 of the photographed persons distinctly appear in two or more photos in the data set.\n",
        "The faces in these images were detected by the Viola-Jones face detector (Paul Viola and Michael Jones, 2001).\n",
        "\n",
        "LFW includes four different sets of images, including the original and three types of aligned images that can be used to test algorithms under different conditions. For alignment, the dataset uses funneled images (ICCV 2007), LFW-a, and deep funneled images (NIPS 2012). Deep funneled and LFW-a images produce superior results for most face verification algorithms over the funneled images and the original images.\n",
        "\n",
        "Face Recognition is a task typically performed on the output of a model trained to perform Face Detection. The most popular model for Face Detection is called Viola-Jones and is implemented in the OpenCV library. The LFW faces were extracted by this face detector from various online websites."
      ],
      "metadata": {
        "id": "G4qDuODxas12"
      }
    },
    {
      "cell_type": "markdown",
      "source": [
        "###Purpose\n",
        "Our first purpose is to train an image classifier to work on a dataset of well-known faces of famous people. Then we will make the neural network recognize further faces extending the dataset with new measurements linked to proper identity labels. A final objective could be to make an app which recognize human faces after collecting data."
      ],
      "metadata": {
        "id": "dIn508Tuslbr"
      }
    },
    {
      "cell_type": "markdown",
      "source": [
        "#FaceNet\n",
        "FaceNet is a deep neural network used for extracting features from an image of a person’s face. It was published in 2015 by Google researchers.\n",
        "\n",
        "FaceNet takes an image of the person’s face as input and outputs a vector of 128 numbers which represent the most important features of a face. In machine learning, this vector is called embedding. Why embedding? Because all the important information from an image is embedded into this vector. Basically, FaceNet takes a person’s face and compresses it into a vector of 128 numbers. Ideally, embeddings of similar faces are also similar.\n",
        "\n",
        "FaceNet learns in the following way:\n",
        "\n",
        "1. Randomly selects an anchor image.\n",
        "2. Randomly selects an image of the same person as the anchor image (positive example).\n",
        "3. Randomly selects an image of a person different than the anchor image (negative example).\n",
        "4. Adjusts the FaceNet network parameters so that the positive example is closer to the anchor than the negative example.\n",
        "\n",
        "We repeat these steps until there are no more changes to be done, so all the faces of the same person are close to each other and far from others.\n",
        "\n",
        "This method of learning with anchor, positive and negative examples is called triplet loss.\n",
        "\n",
        "The classification step could be done by calculating the embedding distances between a new face and known faces, but that approach is too computationally and memory expensive (this approach is called k-NN). Instead, we decided to use the Softmax classifier which memorises boundaries between people which is much more efficient."
      ],
      "metadata": {
        "id": "bB3hsoO4AWUR"
      }
    },
    {
      "cell_type": "markdown",
      "source": [
        "#Schedule\n",
        "1. Pre-processing — a method used to take a set of images and convert them all to a uniform format — in our case, a square image containing just a person’s face. A uniform dataset is useful for decreasing variance when training as we have limited computational resources when using the Edge TPU.\n",
        "2. Embedding — a process, fundamental to the way FaceNet works, which learns representations of faces in a multidimensional space where distance corresponds to a measure of face similarity.\n",
        "3. Classification — the final step which uses information given by the embedding process to separate distinct faces."
      ],
      "metadata": {
        "id": "AQKESC1LAdxd"
      }
    },
    {
      "cell_type": "markdown",
      "source": [
        "##1. Pre-processing\n"
      ],
      "metadata": {
        "id": "m6PiUTmgieLR"
      }
    },
    {
      "cell_type": "markdown",
      "source": [
        "###1. Basic steps."
      ],
      "metadata": {
        "id": "Y0KWTO33igDm"
      }
    },
    {
      "cell_type": "code",
      "source": [
        "%matplotlib inline"
      ],
      "metadata": {
        "id": "jTFEiFnpxU2S"
      },
      "execution_count": 1,
      "outputs": []
    },
    {
      "cell_type": "code",
      "source": [
        "import os\n",
        "import torch \n",
        "from torch.utils.data import DataLoader\n",
        "import torchvision\n",
        "import torchvision.transforms as transforms\n",
        "import torchvision.datasets as datasets"
      ],
      "metadata": {
        "id": "fDoyH9qDxWlh"
      },
      "execution_count": 2,
      "outputs": []
    },
    {
      "cell_type": "code",
      "source": [
        "#Training hyperparameters\n",
        "BATCH_SIZE = 16\n",
        "\n",
        "#Setting the device to train the model\n",
        "device = torch.device(\"cuda\" if torch.cuda.is_available() else \"cpu\")\n",
        "\n",
        "#Loading the dataset\n",
        "print(\"[INFO] Loading the LFW dataset...\")\n",
        "transform = transforms.Compose(\n",
        "    [transforms.ToTensor(),\n",
        "     transforms.Resize((160,160)),\n",
        "     transforms.Normalize((0.5, 0.5, 0.5), (0.5, 0.5, 0.5))])\n",
        "\n",
        "trainset = datasets.LFWPeople(root='./data', split='train', \n",
        "                          transform = transform, download=True)\n",
        "trainloader = DataLoader(trainset, batch_size=BATCH_SIZE,\n",
        "                                          shuffle=True, num_workers=2)\n",
        "print(\"[INFO] Trainset loaded:\")\n",
        "print(trainset)\n",
        "testset = datasets.LFWPeople(root='./data', split='test',\n",
        "                          transform = transform, download=True)\n",
        "testloader = DataLoader(testset, batch_size=BATCH_SIZE,\n",
        "                                         shuffle=False, num_workers=2)\n",
        "print(\"[INFO] Testset loaded:\")\n",
        "print(testset)"
      ],
      "metadata": {
        "id": "Uihdw7MBilO5",
        "colab": {
          "base_uri": "https://localhost:8080/",
          "height": 766,
          "referenced_widgets": [
            "a9fd1b553412432180098087b16f3db4",
            "47d1b806edcd4cad8b04e768fa8fbfa4",
            "9803f424125c45d4af20e288583028b6",
            "81357d6c02d943449cb707289a37b17c",
            "02a984a86e8040228f5e99899d41b73f",
            "47026c36638f44ec9156f31da905a457",
            "48b05e39c25e4a9e8083259451bbd2a2",
            "034fe2811cdc4d43b0ecf33bd0b37f7e",
            "bdd9f82781f341959336c6b79a3776bd",
            "f3ab1d9a44744769bbdb0b6d8e6bdb63",
            "e54ea395868849fda9f326441c6d3ad4",
            "ec6a7d702557449e84a5f5fe63921cea",
            "0f96050c4209403187d60c0115d5a6cb",
            "22bc206b4c0946209f78846a9a2f3c47",
            "8e0ca2d4113f4fe3b710b523e59a0118",
            "b2e0fefc2b5a44d494c82710fd9a3c1e",
            "13d53f56a89e43a38242cb846ab3f52c",
            "8cc07742ea4449e4ade35db463594bbd",
            "272ef38f500844d692e6a5487d41fce0",
            "07ccf255f890431898c5b08bae6c640d",
            "1c035d97f9364fb8941b56303c62112a",
            "eeea0724e0b6495ab4051fd1da96d3fd",
            "fbcead8183eb4b00b2105f310323fe1e",
            "a32b2b3900f949a09f9f705dc7d13bc6",
            "60f15895aa3e47efbf16fb788adad66b",
            "ea0318fbfd204693a50b03f387a914c7",
            "f1231be342524d2db1f4c6948cf9d579",
            "9f82a22750844e3f89bae8a4727ac97c",
            "87226ec6e78e4da0bf8f5eff47d48218",
            "bd2e856b2018411c8c27485bbeab9dc7",
            "29cd12ee393044eb9e281e7a691b10a1",
            "d6341c741da34a0d8bdae44ca7ad416c",
            "3d538fb0e4904963a0ab51bdd2b86eab"
          ]
        },
        "outputId": "54833d61-d156-4609-c63c-b4e05917437d"
      },
      "execution_count": 4,
      "outputs": [
        {
          "output_type": "stream",
          "name": "stdout",
          "text": [
            "[INFO] Loading the LFW dataset...\n",
            "Using downloaded and verified file: ./data/lfw-py/lfw-funneled.tgz\n",
            "Extracting ./data/lfw-py/lfw-funneled.tgz to ./data/lfw-py\n",
            "Downloading http://vis-www.cs.umass.edu/lfw/peopleDevTrain.txt to ./data/lfw-py/peopleDevTrain.txt\n"
          ]
        },
        {
          "output_type": "display_data",
          "data": {
            "text/plain": [
              "  0%|          | 0/66403 [00:00<?, ?it/s]"
            ],
            "application/vnd.jupyter.widget-view+json": {
              "version_major": 2,
              "version_minor": 0,
              "model_id": "a9fd1b553412432180098087b16f3db4"
            }
          },
          "metadata": {}
        },
        {
          "output_type": "stream",
          "name": "stdout",
          "text": [
            "Downloading http://vis-www.cs.umass.edu/lfw/lfw-names.txt to ./data/lfw-py/lfw-names.txt\n"
          ]
        },
        {
          "output_type": "display_data",
          "data": {
            "text/plain": [
              "  0%|          | 0/94727 [00:00<?, ?it/s]"
            ],
            "application/vnd.jupyter.widget-view+json": {
              "version_major": 2,
              "version_minor": 0,
              "model_id": "ec6a7d702557449e84a5f5fe63921cea"
            }
          },
          "metadata": {}
        },
        {
          "output_type": "stream",
          "name": "stdout",
          "text": [
            "[INFO] Trainset loaded:\n",
            "Dataset LFWPeople\n",
            "    Number of datapoints: 9525\n",
            "    Root location: ./data/lfw-py\n",
            "    Alignment: funneled\n",
            "    Split: train\n",
            "    Classes (identities): 5749\n",
            "    StandardTransform\n",
            "Transform: Compose(\n",
            "               ToTensor()\n",
            "               Resize(size=(160, 160), interpolation=bilinear, max_size=None, antialias=None)\n",
            "               Normalize(mean=(0.5, 0.5, 0.5), std=(0.5, 0.5, 0.5))\n",
            "           )\n",
            "Using downloaded and verified file: ./data/lfw-py/lfw-funneled.tgz\n",
            "Extracting ./data/lfw-py/lfw-funneled.tgz to ./data/lfw-py\n",
            "Downloading http://vis-www.cs.umass.edu/lfw/peopleDevTest.txt to ./data/lfw-py/peopleDevTest.txt\n"
          ]
        },
        {
          "output_type": "display_data",
          "data": {
            "text/plain": [
              "  0%|          | 0/28334 [00:00<?, ?it/s]"
            ],
            "application/vnd.jupyter.widget-view+json": {
              "version_major": 2,
              "version_minor": 0,
              "model_id": "fbcead8183eb4b00b2105f310323fe1e"
            }
          },
          "metadata": {}
        },
        {
          "output_type": "stream",
          "name": "stdout",
          "text": [
            "Using downloaded and verified file: ./data/lfw-py/lfw-names.txt\n",
            "[INFO] Testset loaded:\n",
            "Dataset LFWPeople\n",
            "    Number of datapoints: 3708\n",
            "    Root location: ./data/lfw-py\n",
            "    Alignment: funneled\n",
            "    Split: test\n",
            "    Classes (identities): 5749\n",
            "    StandardTransform\n",
            "Transform: Compose(\n",
            "               ToTensor()\n",
            "               Resize(size=(160, 160), interpolation=bilinear, max_size=None, antialias=None)\n",
            "               Normalize(mean=(0.5, 0.5, 0.5), std=(0.5, 0.5, 0.5))\n",
            "           )\n"
          ]
        }
      ]
    },
    {
      "cell_type": "markdown",
      "source": [
        "Display a single batch of images from testset."
      ],
      "metadata": {
        "id": "MZYzPTg8xbOA"
      }
    },
    {
      "cell_type": "code",
      "source": [
        "import matplotlib.pyplot as plt\n",
        "import numpy as np"
      ],
      "metadata": {
        "id": "2--TXqXRz-A8"
      },
      "execution_count": 5,
      "outputs": []
    },
    {
      "cell_type": "code",
      "source": [
        "def imshow(img):\n",
        "  # Unnormalizing\n",
        "  img = img/2 + 0.5 \n",
        "  # Plotting\n",
        "  plt.imshow(np.transpose(img.numpy(), (1,2,0)))"
      ],
      "metadata": {
        "id": "8XlWYRbvz-pP"
      },
      "execution_count": 8,
      "outputs": []
    },
    {
      "cell_type": "code",
      "source": [
        "testiter = iter(testloader)\n",
        "images, labels = testiter.next()\n",
        "\n",
        "imshow(torchvision.utils.make_grid(images))"
      ],
      "metadata": {
        "id": "NtZAJ6Juiop9",
        "colab": {
          "base_uri": "https://localhost:8080/",
          "height": 136
        },
        "outputId": "d5af4f3d-242b-4d66-8ef9-0034f52cbbde"
      },
      "execution_count": 9,
      "outputs": [
        {
          "output_type": "display_data",
          "data": {
            "text/plain": [
              "<Figure size 432x288 with 1 Axes>"
            ],
            "image/png": "[encoded data removed]"
          },
          "metadata": {
            "needs_background": "light"
          }
        }
      ]
    },
    {
      "cell_type": "markdown",
      "source": [
        "###2. MTCNN\n",
        "One face landmark detector that has proven to work very well for face alignment in this setting is the Multi-task CNN (MTCNN)."
      ],
      "metadata": {
        "id": "GScu8EHViq1D"
      }
    },
    {
      "cell_type": "markdown",
      "source": [
        "####mtcnn\n",
        "\n",
        "A first possibility is to use the package mtcnn."
      ],
      "metadata": {
        "id": "P-_hYxaxyaiW"
      }
    },
    {
      "cell_type": "markdown",
      "source": [
        "1. Initialization."
      ],
      "metadata": {
        "id": "DjcPc_XqiyBK"
      }
    },
    {
      "cell_type": "code",
      "source": [
        "%pip install mtcnn"
      ],
      "metadata": {
        "id": "BRf6q5hMi0EG",
        "colab": {
          "base_uri": "https://localhost:8080/"
        },
        "outputId": "81427a23-30fc-4801-fbef-a4552383f7c3"
      },
      "execution_count": null,
      "outputs": [
        {
          "output_type": "stream",
          "name": "stdout",
          "text": [
            "Looking in indexes: https://pypi.org/simple, https://us-python.pkg.dev/colab-wheels/public/simple/\n",
            "Collecting mtcnn\n",
            "  Downloading mtcnn-0.1.1-py3-none-any.whl (2.3 MB)\n",
            "\u001b[K     |████████████████████████████████| 2.3 MB 5.1 MB/s \n",
            "\u001b[?25hRequirement already satisfied: keras>=2.0.0 in /usr/local/lib/python3.7/dist-packages (from mtcnn) (2.8.0)\n",
            "Requirement already satisfied: opencv-python>=4.1.0 in /usr/local/lib/python3.7/dist-packages (from mtcnn) (4.1.2.30)\n",
            "Requirement already satisfied: numpy>=1.14.5 in /usr/local/lib/python3.7/dist-packages (from opencv-python>=4.1.0->mtcnn) (1.21.6)\n",
            "Installing collected packages: mtcnn\n",
            "Successfully installed mtcnn-0.1.1\n"
          ]
        }
      ]
    },
    {
      "cell_type": "code",
      "source": [
        "import cv2\n",
        "import mtcnn\n",
        "from mtcnn.mtcnn import MTCNN\n",
        "\n",
        "image_path = \"/content/data/lfw-py/lfw_funneled/Bill_Clinton/Bill_Clinton_0004.jpg\"\n",
        "print(\"Versione di MTCNN:\", mtcnn.__version__)"
      ],
      "metadata": {
        "id": "o5B7KHSRi2Ul",
        "colab": {
          "base_uri": "https://localhost:8080/"
        },
        "outputId": "ad4eff04-6099-42a9-c063-8e008cd92316"
      },
      "execution_count": null,
      "outputs": [
        {
          "output_type": "stream",
          "name": "stdout",
          "text": [
            "Versione di MTCNN: 0.1.0\n"
          ]
        }
      ]
    },
    {
      "cell_type": "markdown",
      "source": [
        "2. Define a method to detect face in an image using MTCNN, returning bounding boxes."
      ],
      "metadata": {
        "id": "5gp3aJdUi4iu"
      }
    },
    {
      "cell_type": "code",
      "source": [
        "#Defining a face detector\n",
        "def face_detector(image):\n",
        "  detector = MTCNN()\n",
        "  bboxes = detector.detect_faces(image)\n",
        "  return bboxes"
      ],
      "metadata": {
        "id": "ddKlqaLRi6je"
      },
      "execution_count": null,
      "outputs": []
    },
    {
      "cell_type": "markdown",
      "source": [
        "3.  Define a method to draw bounding box around the face in an image."
      ],
      "metadata": {
        "id": "PjjA8uJIi9tF"
      }
    },
    {
      "cell_type": "code",
      "source": [
        "#Drawing function\n",
        "def draw_bounding_boxes(image, bboxes):\n",
        "    for box in bboxes:\n",
        "        x, y, w, h = box['box']\n",
        "        cv2.rectangle(image, (x, y), (x+w,y+h), (0,255,0), 2)"
      ],
      "metadata": {
        "id": "vnFgTDIli9aI"
      },
      "execution_count": null,
      "outputs": []
    },
    {
      "cell_type": "markdown",
      "source": [
        "4. Define a method to mark keypoints on face."
      ],
      "metadata": {
        "id": "4kXWuw2OjB3z"
      }
    },
    {
      "cell_type": "code",
      "source": [
        "#Keypoints mark on face\n",
        "def mark_keypoints(image, keypoints):\n",
        "  cv2.circle(image, (keypoints), 1, (0,255,0), 2)"
      ],
      "metadata": {
        "id": "Z7WQ_lCwjDeO"
      },
      "execution_count": null,
      "outputs": []
    },
    {
      "cell_type": "markdown",
      "source": [
        "5. Test with an image to detect a face."
      ],
      "metadata": {
        "id": "DWYBOMCijFUF"
      }
    },
    {
      "cell_type": "code",
      "source": [
        "#Image processing\n",
        "image = cv2.imread(image_path)\n",
        "image = cv2.cvtColor(image, cv2.COLOR_BGR2RGB)\n",
        "\n",
        "bboxes = face_detector(image)\n",
        "print(\"Output of MTCNN detector: \\n\", bboxes)"
      ],
      "metadata": {
        "id": "UXiH7fgbjFFL",
        "colab": {
          "base_uri": "https://localhost:8080/"
        },
        "outputId": "1a2ee807-835e-4162-eef8-8f548c883f2f"
      },
      "execution_count": null,
      "outputs": [
        {
          "output_type": "stream",
          "name": "stdout",
          "text": [
            "WARNING:tensorflow:5 out of the last 11 calls to <function Model.make_predict_function.<locals>.predict_function at 0x7f05d8961560> triggered tf.function retracing. Tracing is expensive and the excessive number of tracings could be due to (1) creating @tf.function repeatedly in a loop, (2) passing tensors with different shapes, (3) passing Python objects instead of tensors. For (1), please define your @tf.function outside of the loop. For (2), @tf.function has experimental_relax_shapes=True option that relaxes argument shapes that can avoid unnecessary retracing. For (3), please refer to https://www.tensorflow.org/guide/function#controlling_retracing and https://www.tensorflow.org/api_docs/python/tf/function for  more details.\n",
            "Output of MTCNN detector: \n",
            " [{'box': [70, 55, 107, 143], 'confidence': 0.9999871253967285, 'keypoints': {'left_eye': (91, 109), 'right_eye': (135, 110), 'nose': (106, 136), 'mouth_left': (96, 157), 'mouth_right': (135, 159)}}]\n"
          ]
        }
      ]
    },
    {
      "cell_type": "code",
      "source": [
        "# Drawing bounding box around face and marking keypoints\n",
        "draw_bounding_boxes(image, bboxes)\n",
        "mark_keypoints(image, bboxes[0]['keypoints']['left_eye'])\n",
        "mark_keypoints(image, bboxes[0]['keypoints']['right_eye'])\n",
        "mark_keypoints(image, bboxes[0]['keypoints']['nose'])\n",
        "mark_keypoints(image, bboxes[0]['keypoints']['mouth_left'])\n",
        "mark_keypoints(image, bboxes[0]['keypoints']['mouth_right'])\n",
        "\n",
        "# Display the image\n",
        "plt.imshow(image)\n",
        "plt.xticks([])\n",
        "plt.yticks([])\n",
        "plt.show()"
      ],
      "metadata": {
        "id": "F2_IzfgdjJkR",
        "colab": {
          "base_uri": "https://localhost:8080/",
          "height": 252
        },
        "outputId": "fdfa4f80-971b-4a24-d128-7c8b81ce6697"
      },
      "execution_count": null,
      "outputs": [
        {
          "output_type": "display_data",
          "data": {
            "text/plain": [
              "<Figure size 432x288 with 1 Axes>"
            ],
            "image/png": "[encoded data removed]"
          },
          "metadata": {}
        }
      ]
    },
    {
      "cell_type": "code",
      "source": [
        "def crop_face(image, bboxes):\n",
        "    for box in bboxes:\n",
        "        x, y, w, h = box['box']\n",
        "        return image[y:y+h, x:x+w]"
      ],
      "metadata": {
        "id": "nOTWk0EOjM-o"
      },
      "execution_count": null,
      "outputs": []
    },
    {
      "cell_type": "code",
      "source": [
        "image = cv2.imread(image_path)\n",
        "image = cv2.cvtColor(image, cv2.COLOR_BGR2RGB)\n",
        "\n",
        "face = crop_face(image,bboxes)\n",
        "plt.imshow(face)\n",
        "plt.xticks([])\n",
        "plt.yticks([])\n",
        "plt.show()"
      ],
      "metadata": {
        "id": "mhFZhuUijOl3",
        "colab": {
          "base_uri": "https://localhost:8080/",
          "height": 252
        },
        "outputId": "fc9caaff-c5bc-48f8-f7be-57ec1583cf44"
      },
      "execution_count": null,
      "outputs": [
        {
          "output_type": "display_data",
          "data": {
            "text/plain": [
              "<Figure size 432x288 with 1 Axes>"
            ],
            "image/png": "[encoded data removed]"
          },
          "metadata": {}
        }
      ]
    },
    {
      "cell_type": "markdown",
      "source": [
        "However, mtcnn is good to work an a single image, but works very slowly on batches. The output should also be squared, with equal width and height. Let's try another approach."
      ],
      "metadata": {
        "id": "7vH3uNoKjTTV"
      }
    },
    {
      "cell_type": "markdown",
      "source": [
        "####facenet-pytorch\n",
        "A batched face detection of a MTCNN is implemented in the facenet-pytorch package."
      ],
      "metadata": {
        "id": "pkd_i7mJjVQb"
      }
    },
    {
      "cell_type": "code",
      "source": [
        "%pip install facenet-pytorch"
      ],
      "metadata": {
        "id": "yOw6UAg5jZ4H",
        "colab": {
          "base_uri": "https://localhost:8080/"
        },
        "outputId": "cb5a5469-7820-430b-ccef-3a3a0b0f1a34"
      },
      "execution_count": 10,
      "outputs": [
        {
          "output_type": "stream",
          "name": "stdout",
          "text": [
            "Looking in indexes: https://pypi.org/simple, https://us-python.pkg.dev/colab-wheels/public/simple/\n",
            "Collecting facenet-pytorch\n",
            "  Downloading facenet_pytorch-2.5.2-py3-none-any.whl (1.9 MB)\n",
            "\u001b[K     |████████████████████████████████| 1.9 MB 7.3 MB/s \n",
            "\u001b[?25hRequirement already satisfied: torchvision in /usr/local/lib/python3.7/dist-packages (from facenet-pytorch) (0.13.0+cu113)\n",
            "Requirement already satisfied: numpy in /usr/local/lib/python3.7/dist-packages (from facenet-pytorch) (1.21.6)\n",
            "Requirement already satisfied: requests in /usr/local/lib/python3.7/dist-packages (from facenet-pytorch) (2.23.0)\n",
            "Requirement already satisfied: pillow in /usr/local/lib/python3.7/dist-packages (from facenet-pytorch) (7.1.2)\n",
            "Requirement already satisfied: idna<3,>=2.5 in /usr/local/lib/python3.7/dist-packages (from requests->facenet-pytorch) (2.10)\n",
            "Requirement already satisfied: certifi>=2017.4.17 in /usr/local/lib/python3.7/dist-packages (from requests->facenet-pytorch) (2022.6.15)\n",
            "Requirement already satisfied: chardet<4,>=3.0.2 in /usr/local/lib/python3.7/dist-packages (from requests->facenet-pytorch) (3.0.4)\n",
            "Requirement already satisfied: urllib3!=1.25.0,!=1.25.1,<1.26,>=1.21.1 in /usr/local/lib/python3.7/dist-packages (from requests->facenet-pytorch) (1.24.3)\n",
            "Requirement already satisfied: torch==1.12.0 in /usr/local/lib/python3.7/dist-packages (from torchvision->facenet-pytorch) (1.12.0+cu113)\n",
            "Requirement already satisfied: typing-extensions in /usr/local/lib/python3.7/dist-packages (from torchvision->facenet-pytorch) (4.1.1)\n",
            "Installing collected packages: facenet-pytorch\n",
            "Successfully installed facenet-pytorch-2.5.2\n"
          ]
        }
      ]
    },
    {
      "cell_type": "markdown",
      "source": [
        "Verify how it works on a single image."
      ],
      "metadata": {
        "id": "-6ZIXp311zit"
      }
    },
    {
      "cell_type": "code",
      "source": [
        "from PIL import Image\n",
        "from torch.utils.data import SubsetRandomSampler, SequentialSampler\n",
        "from facenet_pytorch import MTCNN, InceptionResnetV1, fixed_image_standardization, training, extract_face"
      ],
      "metadata": {
        "id": "vYinqOGujc-f"
      },
      "execution_count": 11,
      "outputs": []
    },
    {
      "cell_type": "code",
      "source": [
        "# Face detector\n",
        "mtcnn = MTCNN(margin=15, \n",
        "              select_largest=False, \n",
        "              post_process=False, \n",
        "              device=device)\n",
        "\n",
        "# Processing an image\n",
        "img = Image.open(\"/content/data/lfw-py/lfw_funneled/Bill_Clinton/Bill_Clinton_0004.jpg\")\n",
        "\n",
        "# Detect face, returning cropped and prewhitened image tensor\n",
        "face = mtcnn(img)"
      ],
      "metadata": {
        "id": "Cdb3_FjqjfDd"
      },
      "execution_count": 12,
      "outputs": []
    },
    {
      "cell_type": "code",
      "source": [
        "# Visualize\n",
        "plt.imshow(face.permute(1, 2, 0).int().numpy())\n",
        "plt.axis('off');\n",
        "plt.show()"
      ],
      "metadata": {
        "id": "_p0KgGjRjhQ1",
        "colab": {
          "base_uri": "https://localhost:8080/",
          "height": 248
        },
        "outputId": "11f3714c-8c0d-4702-f3f0-6ef3efef4f47"
      },
      "execution_count": 13,
      "outputs": [
        {
          "output_type": "display_data",
          "data": {
            "text/plain": [
              "<Figure size 432x288 with 1 Axes>"
            ],
            "image/png": "[encoded data removed]"
          },
          "metadata": {
            "needs_background": "light"
          }
        }
      ]
    },
    {
      "cell_type": "markdown",
      "source": [
        "Now let's prepare for batched detection."
      ],
      "metadata": {
        "id": "4TOoTNrDjnzU"
      }
    },
    {
      "cell_type": "markdown",
      "source": [
        "1. Set parameters."
      ],
      "metadata": {
        "id": "VNf_G0Rnd0RT"
      }
    },
    {
      "cell_type": "code",
      "source": [
        "data_dir = '/content/data/lfw-py/lfw_funneled'\n",
        "pairs_path = '/content/data/lfw-py/lfw_funneled/pairs.txt'\n",
        "\n",
        "BATCH_SIZE = 16\n",
        "EPOCHS = 15\n",
        "WORKERS = 0 if os.name == 'nt' else 8"
      ],
      "metadata": {
        "id": "9ko7a5AL3FsP"
      },
      "execution_count": 14,
      "outputs": []
    },
    {
      "cell_type": "code",
      "source": [
        "print('Running on device: {}'.format(device))"
      ],
      "metadata": {
        "colab": {
          "base_uri": "https://localhost:8080/"
        },
        "id": "CiCuGPhX3P1H",
        "outputId": "a6ec1d82-63e9-4338-96b8-eb0df0284a28"
      },
      "execution_count": 15,
      "outputs": [
        {
          "output_type": "stream",
          "name": "stdout",
          "text": [
            "Running on device: cuda\n"
          ]
        }
      ]
    },
    {
      "cell_type": "markdown",
      "source": [
        "2. Build the MTCNN."
      ],
      "metadata": {
        "id": "2jKa_M72d4CS"
      }
    },
    {
      "cell_type": "code",
      "source": [
        "mtcnn = MTCNN(\n",
        "    image_size=160,\n",
        "    margin=15,\n",
        "    device=device,\n",
        "    selection_method='center_weighted_size'\n",
        ")"
      ],
      "metadata": {
        "id": "0l-O8oBf3ZbT"
      },
      "execution_count": 16,
      "outputs": []
    },
    {
      "cell_type": "markdown",
      "source": [
        "3. Define the data loader."
      ],
      "metadata": {
        "id": "xCTtBeEHd8qZ"
      }
    },
    {
      "cell_type": "code",
      "source": [
        "# Data loader for the input set of images\n",
        "input_loader = datasets.ImageFolder(data_dir, transform=None)"
      ],
      "metadata": {
        "id": "uT0DrgZh3bNu"
      },
      "execution_count": 17,
      "outputs": []
    },
    {
      "cell_type": "markdown",
      "source": [
        "4. Overwrite class labels with path used to save output."
      ],
      "metadata": {
        "id": "SMCHC8PrfOXP"
      }
    },
    {
      "cell_type": "code",
      "source": [
        "# Overwriting class labels with path\n",
        "input_loader.samples = [\n",
        "    (p, p)\n",
        "    for p, _ in input_loader.samples\n",
        "]\n",
        "\n",
        "loader = DataLoader(input_loader, \n",
        "                    batch_size= BATCH_SIZE, \n",
        "                    num_workers= WORKERS,\n",
        "                    collate_fn=training.collate_pil\n",
        "          )"
      ],
      "metadata": {
        "id": "y-T7Inyj3dIW",
        "colab": {
          "base_uri": "https://localhost:8080/"
        },
        "outputId": "86204960-11b3-4341-d845-c9611789851b"
      },
      "execution_count": 18,
      "outputs": [
        {
          "output_type": "stream",
          "name": "stderr",
          "text": [
            "/usr/local/lib/python3.7/dist-packages/torch/utils/data/dataloader.py:560: UserWarning: This DataLoader will create 8 worker processes in total. Our suggested max number of worker in current system is 2, which is smaller than what this DataLoader is going to create. Please be aware that excessive worker creation might get DataLoader running slow or even freeze, lower the worker number to avoid potential slowness/freeze if necessary.\n",
            "  cpuset_checked))\n"
          ]
        }
      ]
    },
    {
      "cell_type": "markdown",
      "source": [
        "5. Build a new folder containing cropped images of faces. Now we works on batches."
      ],
      "metadata": {
        "id": "NRYlNmJQfr6d"
      }
    },
    {
      "cell_type": "code",
      "source": [
        "crop_paths = []\n",
        "box_probs = []\n",
        "\n",
        "for i, (x, b_paths) in enumerate(loader):\n",
        "    crops = [p.replace(data_dir, data_dir + '_cropped') for p in b_paths]\n",
        "    mtcnn(x, save_path=crops)\n",
        "    crop_paths.extend(crops)\n",
        "    print('\\rBatch {} of {}'.format(i + 1, len(loader)), end='')"
      ],
      "metadata": {
        "id": "CzclX7IR3fiC",
        "colab": {
          "base_uri": "https://localhost:8080/"
        },
        "outputId": "9c251e28-4f67-4b18-bff4-968310ed4af6"
      },
      "execution_count": 19,
      "outputs": [
        {
          "output_type": "stream",
          "name": "stderr",
          "text": [
            "/usr/local/lib/python3.7/dist-packages/torch/utils/data/dataloader.py:560: UserWarning: This DataLoader will create 8 worker processes in total. Our suggested max number of worker in current system is 2, which is smaller than what this DataLoader is going to create. Please be aware that excessive worker creation might get DataLoader running slow or even freeze, lower the worker number to avoid potential slowness/freeze if necessary.\n",
            "  cpuset_checked))\n",
            "/usr/local/lib/python3.7/dist-packages/facenet_pytorch/models/utils/detect_face.py:183: VisibleDeprecationWarning: Creating an ndarray from ragged nested sequences (which is a list-or-tuple of lists-or-tuples-or ndarrays with different lengths or shapes) is deprecated. If you meant to do this, you must specify 'dtype=object' when creating the ndarray.\n",
            "  batch_boxes, batch_points = np.array(batch_boxes), np.array(batch_points)\n",
            "/usr/local/lib/python3.7/dist-packages/facenet_pytorch/models/mtcnn.py:339: VisibleDeprecationWarning: Creating an ndarray from ragged nested sequences (which is a list-or-tuple of lists-or-tuples-or ndarrays with different lengths or shapes) is deprecated. If you meant to do this, you must specify 'dtype=object' when creating the ndarray.\n",
            "  boxes = np.array(boxes)\n",
            "/usr/local/lib/python3.7/dist-packages/facenet_pytorch/models/mtcnn.py:340: VisibleDeprecationWarning: Creating an ndarray from ragged nested sequences (which is a list-or-tuple of lists-or-tuples-or ndarrays with different lengths or shapes) is deprecated. If you meant to do this, you must specify 'dtype=object' when creating the ndarray.\n",
            "  probs = np.array(probs)\n",
            "/usr/local/lib/python3.7/dist-packages/facenet_pytorch/models/mtcnn.py:341: VisibleDeprecationWarning: Creating an ndarray from ragged nested sequences (which is a list-or-tuple of lists-or-tuples-or ndarrays with different lengths or shapes) is deprecated. If you meant to do this, you must specify 'dtype=object' when creating the ndarray.\n",
            "  points = np.array(points)\n"
          ]
        },
        {
          "output_type": "stream",
          "name": "stdout",
          "text": [
            "Batch 828 of 828"
          ]
        }
      ]
    },
    {
      "cell_type": "markdown",
      "source": [
        "6. Remove MTCNN to reduce GPU memory usage and empty CUDA cache."
      ],
      "metadata": {
        "id": "TtVG6G7sh1J4"
      }
    },
    {
      "cell_type": "code",
      "source": [
        "del mtcnn\n",
        "torch.cuda.empty_cache()"
      ],
      "metadata": {
        "id": "T--JlOxH3mhH"
      },
      "execution_count": 20,
      "outputs": []
    }
  ]
}