{
  "nbformat": 4,
  "nbformat_minor": 0,
  "metadata": {
    "colab": {
      "name": "FaceRecognition.ipynb",
      "provenance": [],
      "collapsed_sections": [
        "89xD8gWxiitG",
        "tFcmpEP4QauD",
        "eEdIt07zQf_V",
        "JiihF9znN4QQ",
        "vW1rLhe6fVpd"
      ],
      "authorship_tag": "ABX9TyPqZM6jgSKE2oZebCTcf6Dn",
      "include_colab_link": true
    },
    "kernelspec": {
      "name": "python3",
      "display_name": "Python 3"
    },
    "language_info": {
      "name": "python"
    },
    "gpuClass": "standard",
    "accelerator": "GPU",
    "widgets": {
      "application/vnd.jupyter.widget-state+json": {
        "63999eecf409451982d6aad7b73e6283": {
          "model_module": "@jupyter-widgets/controls",
          "model_name": "HBoxModel",
          "model_module_version": "1.5.0",
          "state": {
            "_dom_classes": [],
            "_model_module": "@jupyter-widgets/controls",
            "_model_module_version": "1.5.0",
            "_model_name": "HBoxModel",
            "_view_count": null,
            "_view_module": "@jupyter-widgets/controls",
            "_view_module_version": "1.5.0",
            "_view_name": "HBoxView",
            "box_style": "",
            "children": [
              "IPY_MODEL_33a5e82699b048deaad4bd89707fe7f4",
              "IPY_MODEL_235c5505007f47dabd2a5301861b617e",
              "IPY_MODEL_c3e45e8e7bc0409bb4603e6d2cc4ad33"
            ],
            "layout": "IPY_MODEL_6e300923a3ce41b69ca7815adf959ef5"
          }
        },
        "33a5e82699b048deaad4bd89707fe7f4": {
          "model_module": "@jupyter-widgets/controls",
          "model_name": "HTMLModel",
          "model_module_version": "1.5.0",
          "state": {
            "_dom_classes": [],
            "_model_module": "@jupyter-widgets/controls",
            "_model_module_version": "1.5.0",
            "_model_name": "HTMLModel",
            "_view_count": null,
            "_view_module": "@jupyter-widgets/controls",
            "_view_module_version": "1.5.0",
            "_view_name": "HTMLView",
            "description": "",
            "description_tooltip": null,
            "layout": "IPY_MODEL_c743a96a426b4ee09fc7c7c4ea454015",
            "placeholder": "​",
            "style": "IPY_MODEL_dc04e520c31c4e339eb3618f93a6e471",
            "value": "100%"
          }
        },
        "235c5505007f47dabd2a5301861b617e": {
          "model_module": "@jupyter-widgets/controls",
          "model_name": "FloatProgressModel",
          "model_module_version": "1.5.0",
          "state": {
            "_dom_classes": [],
            "_model_module": "@jupyter-widgets/controls",
            "_model_module_version": "1.5.0",
            "_model_name": "FloatProgressModel",
            "_view_count": null,
            "_view_module": "@jupyter-widgets/controls",
            "_view_module_version": "1.5.0",
            "_view_name": "ProgressView",
            "bar_style": "success",
            "description": "",
            "description_tooltip": null,
            "layout": "IPY_MODEL_1cddec34764844fcb9f848ae6ff8418a",
            "max": 111898327,
            "min": 0,
            "orientation": "horizontal",
            "style": "IPY_MODEL_b94fd5c8b3a34c97be85d0a488700480",
            "value": 111898327
          }
        },
        "c3e45e8e7bc0409bb4603e6d2cc4ad33": {
          "model_module": "@jupyter-widgets/controls",
          "model_name": "HTMLModel",
          "model_module_version": "1.5.0",
          "state": {
            "_dom_classes": [],
            "_model_module": "@jupyter-widgets/controls",
            "_model_module_version": "1.5.0",
            "_model_name": "HTMLModel",
            "_view_count": null,
            "_view_module": "@jupyter-widgets/controls",
            "_view_module_version": "1.5.0",
            "_view_name": "HTMLView",
            "description": "",
            "description_tooltip": null,
            "layout": "IPY_MODEL_491b6f1224684bd4b31d1c95e749a205",
            "placeholder": "​",
            "style": "IPY_MODEL_cb56c048d48f43da8cc9184765232871",
            "value": " 107M/107M [00:01&lt;00:00, 84.3MB/s]"
          }
        },
        "6e300923a3ce41b69ca7815adf959ef5": {
          "model_module": "@jupyter-widgets/base",
          "model_name": "LayoutModel",
          "model_module_version": "1.2.0",
          "state": {
            "_model_module": "@jupyter-widgets/base",
            "_model_module_version": "1.2.0",
            "_model_name": "LayoutModel",
            "_view_count": null,
            "_view_module": "@jupyter-widgets/base",
            "_view_module_version": "1.2.0",
            "_view_name": "LayoutView",
            "align_content": null,
            "align_items": null,
            "align_self": null,
            "border": null,
            "bottom": null,
            "display": null,
            "flex": null,
            "flex_flow": null,
            "grid_area": null,
            "grid_auto_columns": null,
            "grid_auto_flow": null,
            "grid_auto_rows": null,
            "grid_column": null,
            "grid_gap": null,
            "grid_row": null,
            "grid_template_areas": null,
            "grid_template_columns": null,
            "grid_template_rows": null,
            "height": null,
            "justify_content": null,
            "justify_items": null,
            "left": null,
            "margin": null,
            "max_height": null,
            "max_width": null,
            "min_height": null,
            "min_width": null,
            "object_fit": null,
            "object_position": null,
            "order": null,
            "overflow": null,
            "overflow_x": null,
            "overflow_y": null,
            "padding": null,
            "right": null,
            "top": null,
            "visibility": null,
            "width": null
          }
        },
        "c743a96a426b4ee09fc7c7c4ea454015": {
          "model_module": "@jupyter-widgets/base",
          "model_name": "LayoutModel",
          "model_module_version": "1.2.0",
          "state": {
            "_model_module": "@jupyter-widgets/base",
            "_model_module_version": "1.2.0",
            "_model_name": "LayoutModel",
            "_view_count": null,
            "_view_module": "@jupyter-widgets/base",
            "_view_module_version": "1.2.0",
            "_view_name": "LayoutView",
            "align_content": null,
            "align_items": null,
            "align_self": null,
            "border": null,
            "bottom": null,
            "display": null,
            "flex": null,
            "flex_flow": null,
            "grid_area": null,
            "grid_auto_columns": null,
            "grid_auto_flow": null,
            "grid_auto_rows": null,
            "grid_column": null,
            "grid_gap": null,
            "grid_row": null,
            "grid_template_areas": null,
            "grid_template_columns": null,
            "grid_template_rows": null,
            "height": null,
            "justify_content": null,
            "justify_items": null,
            "left": null,
            "margin": null,
            "max_height": null,
            "max_width": null,
            "min_height": null,
            "min_width": null,
            "object_fit": null,
            "object_position": null,
            "order": null,
            "overflow": null,
            "overflow_x": null,
            "overflow_y": null,
            "padding": null,
            "right": null,
            "top": null,
            "visibility": null,
            "width": null
          }
        },
        "dc04e520c31c4e339eb3618f93a6e471": {
          "model_module": "@jupyter-widgets/controls",
          "model_name": "DescriptionStyleModel",
          "model_module_version": "1.5.0",
          "state": {
            "_model_module": "@jupyter-widgets/controls",
            "_model_module_version": "1.5.0",
            "_model_name": "DescriptionStyleModel",
            "_view_count": null,
            "_view_module": "@jupyter-widgets/base",
            "_view_module_version": "1.2.0",
            "_view_name": "StyleView",
            "description_width": ""
          }
        },
        "1cddec34764844fcb9f848ae6ff8418a": {
          "model_module": "@jupyter-widgets/base",
          "model_name": "LayoutModel",
          "model_module_version": "1.2.0",
          "state": {
            "_model_module": "@jupyter-widgets/base",
            "_model_module_version": "1.2.0",
            "_model_name": "LayoutModel",
            "_view_count": null,
            "_view_module": "@jupyter-widgets/base",
            "_view_module_version": "1.2.0",
            "_view_name": "LayoutView",
            "align_content": null,
            "align_items": null,
            "align_self": null,
            "border": null,
            "bottom": null,
            "display": null,
            "flex": null,
            "flex_flow": null,
            "grid_area": null,
            "grid_auto_columns": null,
            "grid_auto_flow": null,
            "grid_auto_rows": null,
            "grid_column": null,
            "grid_gap": null,
            "grid_row": null,
            "grid_template_areas": null,
            "grid_template_columns": null,
            "grid_template_rows": null,
            "height": null,
            "justify_content": null,
            "justify_items": null,
            "left": null,
            "margin": null,
            "max_height": null,
            "max_width": null,
            "min_height": null,
            "min_width": null,
            "object_fit": null,
            "object_position": null,
            "order": null,
            "overflow": null,
            "overflow_x": null,
            "overflow_y": null,
            "padding": null,
            "right": null,
            "top": null,
            "visibility": null,
            "width": null
          }
        },
        "b94fd5c8b3a34c97be85d0a488700480": {
          "model_module": "@jupyter-widgets/controls",
          "model_name": "ProgressStyleModel",
          "model_module_version": "1.5.0",
          "state": {
            "_model_module": "@jupyter-widgets/controls",
            "_model_module_version": "1.5.0",
            "_model_name": "ProgressStyleModel",
            "_view_count": null,
            "_view_module": "@jupyter-widgets/base",
            "_view_module_version": "1.2.0",
            "_view_name": "StyleView",
            "bar_color": null,
            "description_width": ""
          }
        },
        "491b6f1224684bd4b31d1c95e749a205": {
          "model_module": "@jupyter-widgets/base",
          "model_name": "LayoutModel",
          "model_module_version": "1.2.0",
          "state": {
            "_model_module": "@jupyter-widgets/base",
            "_model_module_version": "1.2.0",
            "_model_name": "LayoutModel",
            "_view_count": null,
            "_view_module": "@jupyter-widgets/base",
            "_view_module_version": "1.2.0",
            "_view_name": "LayoutView",
            "align_content": null,
            "align_items": null,
            "align_self": null,
            "border": null,
            "bottom": null,
            "display": null,
            "flex": null,
            "flex_flow": null,
            "grid_area": null,
            "grid_auto_columns": null,
            "grid_auto_flow": null,
            "grid_auto_rows": null,
            "grid_column": null,
            "grid_gap": null,
            "grid_row": null,
            "grid_template_areas": null,
            "grid_template_columns": null,
            "grid_template_rows": null,
            "height": null,
            "justify_content": null,
            "justify_items": null,
            "left": null,
            "margin": null,
            "max_height": null,
            "max_width": null,
            "min_height": null,
            "min_width": null,
            "object_fit": null,
            "object_position": null,
            "order": null,
            "overflow": null,
            "overflow_x": null,
            "overflow_y": null,
            "padding": null,
            "right": null,
            "top": null,
            "visibility": null,
            "width": null
          }
        },
        "cb56c048d48f43da8cc9184765232871": {
          "model_module": "@jupyter-widgets/controls",
          "model_name": "DescriptionStyleModel",
          "model_module_version": "1.5.0",
          "state": {
            "_model_module": "@jupyter-widgets/controls",
            "_model_module_version": "1.5.0",
            "_model_name": "DescriptionStyleModel",
            "_view_count": null,
            "_view_module": "@jupyter-widgets/base",
            "_view_module_version": "1.2.0",
            "_view_name": "StyleView",
            "description_width": ""
          }
        }
      }
    }
  },
  "cells": [
    {
      "cell_type": "markdown",
      "metadata": {
        "id": "view-in-github",
        "colab_type": "text"
      },
      "source": [
        "<a href=\"https://colab.research.google.com/github/pasqualemocerino/AILabProj-FaceRecognition/blob/main/FaceRecognition.ipynb\" target=\"_parent\"><img src=\"https://colab.research.google.com/assets/colab-badge.svg\" alt=\"Open In Colab\"/></a>"
      ]
    },
    {
      "cell_type": "markdown",
      "source": [
        "#Face Recognition\n",
        "Face Recogniton is a form of biometrics, the science which deals with the automated recognition of individuals based on biological and behavioral characteristics. It is included in physiological or static biometrics, based on data derived from the measurement of a part of a person's anatomy.\n",
        "The main purpose is the authentication of the subject, which follows identification and is based on proving the previously declared identity.\n",
        "\n",
        "We will later discuss about the advantages and disadvantages of this mechanism, analysing the requirements for an ideal biometric identifier: Universality, Uniqueness, Performance, Collectability, Acceptability.\n",
        "\n",
        "Face Recognition or Face Identification is: given the picture of the face of an unknown person, identify the name of the person by referring to a gallery of previously seen pictures of identified persons.\n"
      ],
      "metadata": {
        "id": "ey0_FL5hqG0x"
      }
    },
    {
      "cell_type": "markdown",
      "source": [
        "###About the dataset\n",
        "Labeled Faces in the Wild (LFW) is an image dataset containing face photographs, collected especially for studying the problem of unconstrained face recognition. It includes over 13,000 images of faces collected from across the web. Here are key aspects of these images.\n",
        "\n",
        "Each face in this data set was labeled with the person’s name in the image.\n",
        "1680 of the photographed persons distinctly appear in two or more photos in the data set.\n",
        "The faces in these images were detected by the Viola-Jones face detector (Paul Viola and Michael Jones, 2001).\n",
        "\n",
        "LFW includes four different sets of images, including the original and three types of aligned images that can be used to test algorithms under different conditions. For alignment, the dataset uses funneled images (ICCV 2007), LFW-a, and deep funneled images (NIPS 2012). Deep funneled and LFW-a images produce superior results for most face verification algorithms over the funneled images and the original images.\n",
        "\n",
        "Face Recognition is a task typically performed on the output of a model trained to perform Face Detection. The most popular model for Face Detection is called Viola-Jones and is implemented in the OpenCV library. The LFW faces were extracted by this face detector from various online websites."
      ],
      "metadata": {
        "id": "G4qDuODxas12"
      }
    },
    {
      "cell_type": "markdown",
      "source": [
        "###Purpose\n",
        "Our first purpose is to create a pretrained model in order to achieve an identity-based accurate classification of a dataset of well-known faces. Then we will make the neural network recognize further faces using new measurements linked to proper identity labels. A final objective could be to make an app which recognize human faces after collecting data."
      ],
      "metadata": {
        "id": "dIn508Tuslbr"
      }
    },
    {
      "cell_type": "markdown",
      "source": [
        "#FaceNet\n",
        "FaceNet is a deep neural network used for extracting features from an image of a person’s face. It was published in 2015 by Google researchers.\n",
        "\n",
        "FaceNet takes an image of the person’s face as input and outputs a vector of 128 numbers which represent the most important features of a face. In machine learning, this vector is called embedding. Why embedding? Because all the important information from an image is embedded into this vector. Basically, FaceNet takes a person’s face and compresses it into a vector of 128 numbers. Ideally, embeddings of similar faces are also similar.\n",
        "\n",
        "FaceNet learns in the following way:\n",
        "\n",
        "1. Randomly selects an anchor image.\n",
        "2. Randomly selects an image of the same person as the anchor image (positive example).\n",
        "3. Randomly selects an image of a person different than the anchor image (negative example).\n",
        "4. Adjusts the FaceNet network parameters so that the positive example is closer to the anchor than the negative example.\n",
        "\n",
        "We repeat these steps until there are no more changes to be done, so all the faces of the same person are close to each other and far from others.\n",
        "\n",
        "This method of learning with anchor, positive and negative examples is called triplet loss.\n",
        "\n",
        "The classification step could be done by calculating the embedding distances between a new face and known faces, but that approach is too computationally and memory expensive (this approach is called k-NN). Instead, we decided to use the Softmax classifier which memorises boundaries between people which is much more efficient."
      ],
      "metadata": {
        "id": "bB3hsoO4AWUR"
      }
    },
    {
      "cell_type": "markdown",
      "source": [
        "#Schedule\n",
        "1. Pre-processing — a method used to take a set of images and convert them all to a uniform format — in our case, a square image containing just a person’s face. A uniform dataset is useful for decreasing variance when training as we have limited computational resources when using the Edge TPU.\n",
        "2. Embedding — a process, fundamental to the way FaceNet works, which learns representations of faces in a multidimensional space where distance corresponds to a measure of face similarity.\n",
        "3. Classification — the final step which uses information given by the embedding process to separate distinct faces."
      ],
      "metadata": {
        "id": "AQKESC1LAdxd"
      }
    },
    {
      "cell_type": "markdown",
      "source": [
        "##1. Pre-processing\n"
      ],
      "metadata": {
        "id": "m6PiUTmgieLR"
      }
    },
    {
      "cell_type": "markdown",
      "source": [
        "###1.1. Basic steps."
      ],
      "metadata": {
        "id": "Y0KWTO33igDm"
      }
    },
    {
      "cell_type": "code",
      "source": [
        "%matplotlib inline"
      ],
      "metadata": {
        "id": "jTFEiFnpxU2S"
      },
      "execution_count": 104,
      "outputs": []
    },
    {
      "cell_type": "code",
      "source": [
        "import os\n",
        "import torch \n",
        "from torch.utils.data import DataLoader\n",
        "import torchvision\n",
        "import torchvision.transforms as transforms\n",
        "import torchvision.datasets as datasets"
      ],
      "metadata": {
        "id": "fDoyH9qDxWlh"
      },
      "execution_count": 105,
      "outputs": []
    },
    {
      "cell_type": "code",
      "source": [
        "# Hyperparameters\n",
        "BATCH_SIZE = 16\n",
        "WORKERS = 0 if os.name == 'nt' else 2\n",
        "\n",
        "# Setting the device\n",
        "device = torch.device(\"cuda\" if torch.cuda.is_available() else \"cpu\")\n",
        "\n",
        "# Loading the dataset\n",
        "print(\"[INFO] Loading the LFW dataset...\")\n",
        "transform = transforms.Compose(\n",
        "    [transforms.ToTensor(),\n",
        "     transforms.Resize((160,160)),\n",
        "     transforms.Normalize((0.5, 0.5, 0.5), (0.5, 0.5, 0.5))])\n",
        "\n",
        "dataset = datasets.LFWPeople(root='./data', transform = transform, download=True)\n",
        "dataloader = DataLoader(dataset, batch_size=BATCH_SIZE,\n",
        "                                          shuffle=True, num_workers=WORKERS)\n",
        "print(\"[INFO] Dataset loaded:\")\n",
        "print(dataset)"
      ],
      "metadata": {
        "id": "Uihdw7MBilO5",
        "colab": {
          "base_uri": "https://localhost:8080/"
        },
        "outputId": "08ad8995-16d8-4d1d-89f0-8ebe9ff8aec5"
      },
      "execution_count": 110,
      "outputs": [
        {
          "output_type": "stream",
          "name": "stdout",
          "text": [
            "[INFO] Loading the LFW dataset...\n",
            "Files already downloaded and verified\n",
            "[INFO] Dataset loaded:\n",
            "Dataset LFWPeople\n",
            "    Number of datapoints: 13233\n",
            "    Root location: ./data/lfw-py\n",
            "    Alignment: funneled\n",
            "    Split: 10fold\n",
            "    Classes (identities): 5749\n",
            "    StandardTransform\n",
            "Transform: Compose(\n",
            "               ToTensor()\n",
            "               Resize(size=(160, 160), interpolation=bilinear, max_size=None, antialias=None)\n",
            "               Normalize(mean=(0.5, 0.5, 0.5), std=(0.5, 0.5, 0.5))\n",
            "           )\n"
          ]
        }
      ]
    },
    {
      "cell_type": "markdown",
      "source": [
        "Extracting identities as classes."
      ],
      "metadata": {
        "id": "hADnPtemgLT4"
      }
    },
    {
      "cell_type": "code",
      "source": [
        "from sklearn.datasets import fetch_lfw_people"
      ],
      "metadata": {
        "id": "WMX_TfrdgSbV"
      },
      "execution_count": 113,
      "outputs": []
    },
    {
      "cell_type": "code",
      "source": [
        "lfw_people = fetch_lfw_people(min_faces_per_person=1, resize=0.4)\n",
        "classes = lfw_people.target_names"
      ],
      "metadata": {
        "id": "VvwSc8-IgQDA"
      },
      "execution_count": 114,
      "outputs": []
    },
    {
      "cell_type": "markdown",
      "source": [
        "Display a single batch of images from dataset."
      ],
      "metadata": {
        "id": "MZYzPTg8xbOA"
      }
    },
    {
      "cell_type": "code",
      "source": [
        "import matplotlib.pyplot as plt\n",
        "import numpy as np"
      ],
      "metadata": {
        "id": "2--TXqXRz-A8"
      },
      "execution_count": 4,
      "outputs": []
    },
    {
      "cell_type": "code",
      "source": [
        "def imshow(img):\n",
        "  # Unnormalizing\n",
        "  img = img/2 + 0.5 \n",
        "  # Plotting\n",
        "  plt.imshow(np.transpose(img.numpy(), (1,2,0)))"
      ],
      "metadata": {
        "id": "8XlWYRbvz-pP"
      },
      "execution_count": 5,
      "outputs": []
    },
    {
      "cell_type": "code",
      "source": [
        "dataiter = iter(dataloader)"
      ],
      "metadata": {
        "id": "3wdxXIsigce5"
      },
      "execution_count": 116,
      "outputs": []
    },
    {
      "cell_type": "code",
      "source": [
        "images, labels = dataiter.next()\n",
        "imshow(torchvision.utils.make_grid(images))\n",
        "\n",
        "padding = 1\n",
        "names = [classes[labels[id]] for id in range(BATCH_SIZE)]\n",
        "\n",
        "# Column width (using padding)\n",
        "col_width = max(len(name) for name in names) + padding \n",
        "\n",
        "for i in range(len(names)):\n",
        "  if (i == 8): print()\n",
        "  print(names[i].ljust(col_width), end=' ')"
      ],
      "metadata": {
        "id": "NtZAJ6Juiop9",
        "colab": {
          "base_uri": "https://localhost:8080/",
          "height": 192
        },
        "outputId": "7f1aca68-c719-4bca-c664-3df124ec6b05"
      },
      "execution_count": 115,
      "outputs": [
        {
          "output_type": "stream",
          "name": "stdout",
          "text": [
            "George W Bush       Muffet McGraw       Wu Yi               Harland Braun       Carol Burnett       David Nalbandian    Joe Glover          Edward Lu           \n",
            "Julio Cesar Chavez  Wang Yingfan        Sidney Poitier      Fujio Cho           Colin Powell        Donald Rumsfeld     Richard Naughton    John Negroponte     "
          ]
        },
        {
          "output_type": "display_data",
          "data": {
            "text/plain": [
              "<Figure size 432x288 with 1 Axes>"
            ],
            "image/png": "[encoded data removed]"
          },
          "metadata": {
            "needs_background": "light"
          }
        }
      ]
    },
    {
      "cell_type": "markdown",
      "source": [
        "###1.2. MTCNN\n",
        "One face landmark detector that has proven to work very well for face alignment in this setting is the Multi-task CNN (MTCNN)."
      ],
      "metadata": {
        "id": "GScu8EHViq1D"
      }
    },
    {
      "cell_type": "markdown",
      "source": [
        "####mtcnn\n",
        "\n",
        "A first possibility is to use the package mtcnn."
      ],
      "metadata": {
        "id": "P-_hYxaxyaiW"
      }
    },
    {
      "cell_type": "markdown",
      "source": [
        "1. Initialization."
      ],
      "metadata": {
        "id": "DjcPc_XqiyBK"
      }
    },
    {
      "cell_type": "code",
      "source": [
        "%pip install mtcnn"
      ],
      "metadata": {
        "id": "BRf6q5hMi0EG",
        "colab": {
          "base_uri": "https://localhost:8080/"
        },
        "outputId": "8d61119b-6026-4403-8e76-a4bc2a4aaf33"
      },
      "execution_count": 117,
      "outputs": [
        {
          "output_type": "stream",
          "name": "stdout",
          "text": [
            "Looking in indexes: https://pypi.org/simple, https://us-python.pkg.dev/colab-wheels/public/simple/\n",
            "Requirement already satisfied: mtcnn in /usr/local/lib/python3.7/dist-packages (0.1.1)\n",
            "Requirement already satisfied: opencv-python>=4.1.0 in /usr/local/lib/python3.7/dist-packages (from mtcnn) (4.1.2.30)\n",
            "Requirement already satisfied: keras>=2.0.0 in /usr/local/lib/python3.7/dist-packages (from mtcnn) (2.8.0)\n",
            "Requirement already satisfied: numpy>=1.14.5 in /usr/local/lib/python3.7/dist-packages (from opencv-python>=4.1.0->mtcnn) (1.21.6)\n"
          ]
        }
      ]
    },
    {
      "cell_type": "code",
      "source": [
        "import cv2\n",
        "import mtcnn\n",
        "from mtcnn.mtcnn import MTCNN\n",
        "\n",
        "image_path = \"/content/data/lfw-py/lfw_funneled/Bill_Clinton/Bill_Clinton_0004.jpg\"\n",
        "print(\"Versione di MTCNN:\", mtcnn.__version__)"
      ],
      "metadata": {
        "id": "o5B7KHSRi2Ul",
        "colab": {
          "base_uri": "https://localhost:8080/"
        },
        "outputId": "0f51684f-e1b6-4c4c-ba9e-f5d3363a1c7a"
      },
      "execution_count": 8,
      "outputs": [
        {
          "output_type": "stream",
          "name": "stdout",
          "text": [
            "Versione di MTCNN: 0.1.0\n"
          ]
        }
      ]
    },
    {
      "cell_type": "markdown",
      "source": [
        "2. Define a method to detect face in an image using MTCNN, returning bounding boxes."
      ],
      "metadata": {
        "id": "5gp3aJdUi4iu"
      }
    },
    {
      "cell_type": "code",
      "source": [
        "#Defining a face detector\n",
        "def face_detector(image):\n",
        "  detector = MTCNN()\n",
        "  bboxes = detector.detect_faces(image)\n",
        "  return bboxes"
      ],
      "metadata": {
        "id": "ddKlqaLRi6je"
      },
      "execution_count": 9,
      "outputs": []
    },
    {
      "cell_type": "markdown",
      "source": [
        "3.  Define a method to draw bounding box around the face in an image."
      ],
      "metadata": {
        "id": "PjjA8uJIi9tF"
      }
    },
    {
      "cell_type": "code",
      "source": [
        "#Drawing function\n",
        "def draw_bounding_boxes(image, bboxes):\n",
        "    for box in bboxes:\n",
        "        x, y, w, h = box['box']\n",
        "        cv2.rectangle(image, (x, y), (x+w,y+h), (0,255,0), 2)"
      ],
      "metadata": {
        "id": "vnFgTDIli9aI"
      },
      "execution_count": 10,
      "outputs": []
    },
    {
      "cell_type": "markdown",
      "source": [
        "4. Define a method to mark keypoints on face."
      ],
      "metadata": {
        "id": "4kXWuw2OjB3z"
      }
    },
    {
      "cell_type": "code",
      "source": [
        "#Keypoints mark on face\n",
        "def mark_keypoints(image, keypoints):\n",
        "  cv2.circle(image, (keypoints), 1, (0,255,0), 2)"
      ],
      "metadata": {
        "id": "Z7WQ_lCwjDeO"
      },
      "execution_count": 11,
      "outputs": []
    },
    {
      "cell_type": "markdown",
      "source": [
        "5. Test with an image to detect a face."
      ],
      "metadata": {
        "id": "DWYBOMCijFUF"
      }
    },
    {
      "cell_type": "code",
      "source": [
        "#Image processing\n",
        "image = cv2.imread(image_path)\n",
        "image = cv2.cvtColor(image, cv2.COLOR_BGR2RGB)\n",
        "\n",
        "bboxes = face_detector(image)\n",
        "print(\"Output of MTCNN detector: \\n\", bboxes)"
      ],
      "metadata": {
        "id": "UXiH7fgbjFFL",
        "colab": {
          "base_uri": "https://localhost:8080/"
        },
        "outputId": "63f30b16-1a97-49f0-e71c-27e8a70c2b73"
      },
      "execution_count": 12,
      "outputs": [
        {
          "output_type": "stream",
          "name": "stdout",
          "text": [
            "WARNING:tensorflow:5 out of the last 11 calls to <function Model.make_predict_function.<locals>.predict_function at 0x7ff513bc9950> triggered tf.function retracing. Tracing is expensive and the excessive number of tracings could be due to (1) creating @tf.function repeatedly in a loop, (2) passing tensors with different shapes, (3) passing Python objects instead of tensors. For (1), please define your @tf.function outside of the loop. For (2), @tf.function has experimental_relax_shapes=True option that relaxes argument shapes that can avoid unnecessary retracing. For (3), please refer to https://www.tensorflow.org/guide/function#controlling_retracing and https://www.tensorflow.org/api_docs/python/tf/function for  more details.\n",
            "Output of MTCNN detector: \n",
            " [{'box': [70, 55, 107, 143], 'confidence': 0.9999871253967285, 'keypoints': {'left_eye': (91, 109), 'right_eye': (135, 110), 'nose': (106, 136), 'mouth_left': (96, 157), 'mouth_right': (135, 159)}}]\n"
          ]
        }
      ]
    },
    {
      "cell_type": "code",
      "source": [
        "# Drawing bounding box around face and marking keypoints\n",
        "draw_bounding_boxes(image, bboxes)\n",
        "mark_keypoints(image, bboxes[0]['keypoints']['left_eye'])\n",
        "mark_keypoints(image, bboxes[0]['keypoints']['right_eye'])\n",
        "mark_keypoints(image, bboxes[0]['keypoints']['nose'])\n",
        "mark_keypoints(image, bboxes[0]['keypoints']['mouth_left'])\n",
        "mark_keypoints(image, bboxes[0]['keypoints']['mouth_right'])\n",
        "\n",
        "# Display the image\n",
        "plt.imshow(image)\n",
        "plt.xticks([])\n",
        "plt.yticks([])\n",
        "plt.show()"
      ],
      "metadata": {
        "id": "F2_IzfgdjJkR",
        "colab": {
          "base_uri": "https://localhost:8080/",
          "height": 252
        },
        "outputId": "20d37edc-bc54-451d-ee61-34e39b8945cc"
      },
      "execution_count": 13,
      "outputs": [
        {
          "output_type": "display_data",
          "data": {
            "text/plain": [
              "<Figure size 432x288 with 1 Axes>"
            ],
            "image/png": "[encoded data removed]"
          },
          "metadata": {}
        }
      ]
    },
    {
      "cell_type": "code",
      "source": [
        "def crop_face(image, bboxes):\n",
        "    for box in bboxes:\n",
        "        x, y, w, h = box['box']\n",
        "        return image[y:y+h, x:x+w]"
      ],
      "metadata": {
        "id": "nOTWk0EOjM-o"
      },
      "execution_count": 14,
      "outputs": []
    },
    {
      "cell_type": "code",
      "source": [
        "image = cv2.imread(image_path)\n",
        "image = cv2.cvtColor(image, cv2.COLOR_BGR2RGB)\n",
        "\n",
        "face = crop_face(image,bboxes)\n",
        "plt.imshow(face)\n",
        "plt.xticks([])\n",
        "plt.yticks([])\n",
        "plt.show()"
      ],
      "metadata": {
        "id": "mhFZhuUijOl3",
        "colab": {
          "base_uri": "https://localhost:8080/",
          "height": 252
        },
        "outputId": "8d009288-9530-43f9-9ace-b740cb0cb50e"
      },
      "execution_count": 123,
      "outputs": [
        {
          "output_type": "display_data",
          "data": {
            "text/plain": [
              "<Figure size 432x288 with 1 Axes>"
            ],
            "image/png": "[encoded data removed]"
          },
          "metadata": {}
        }
      ]
    },
    {
      "cell_type": "markdown",
      "source": [
        "However, mtcnn is good to work an a single image, but works very slowly on batches. The output should also be squared, with equal width and height (resize needed). Let's try another approach."
      ],
      "metadata": {
        "id": "7vH3uNoKjTTV"
      }
    },
    {
      "cell_type": "markdown",
      "source": [
        "####facenet-pytorch\n",
        "A batched face detection of a MTCNN is implemented in the facenet-pytorch package."
      ],
      "metadata": {
        "id": "pkd_i7mJjVQb"
      }
    },
    {
      "cell_type": "code",
      "source": [
        "%pip install facenet-pytorch"
      ],
      "metadata": {
        "id": "yOw6UAg5jZ4H",
        "colab": {
          "base_uri": "https://localhost:8080/"
        },
        "outputId": "c07d7f81-e6d8-4e91-be1c-3811388bbc84"
      },
      "execution_count": 16,
      "outputs": [
        {
          "output_type": "stream",
          "name": "stdout",
          "text": [
            "Looking in indexes: https://pypi.org/simple, https://us-python.pkg.dev/colab-wheels/public/simple/\n",
            "Collecting facenet-pytorch\n",
            "  Downloading facenet_pytorch-2.5.2-py3-none-any.whl (1.9 MB)\n",
            "\u001b[K     |████████████████████████████████| 1.9 MB 4.6 MB/s \n",
            "\u001b[?25hRequirement already satisfied: pillow in /usr/local/lib/python3.7/dist-packages (from facenet-pytorch) (7.1.2)\n",
            "Requirement already satisfied: numpy in /usr/local/lib/python3.7/dist-packages (from facenet-pytorch) (1.21.6)\n",
            "Requirement already satisfied: requests in /usr/local/lib/python3.7/dist-packages (from facenet-pytorch) (2.23.0)\n",
            "Requirement already satisfied: torchvision in /usr/local/lib/python3.7/dist-packages (from facenet-pytorch) (0.13.0+cu113)\n",
            "Requirement already satisfied: idna<3,>=2.5 in /usr/local/lib/python3.7/dist-packages (from requests->facenet-pytorch) (2.10)\n",
            "Requirement already satisfied: urllib3!=1.25.0,!=1.25.1,<1.26,>=1.21.1 in /usr/local/lib/python3.7/dist-packages (from requests->facenet-pytorch) (1.24.3)\n",
            "Requirement already satisfied: chardet<4,>=3.0.2 in /usr/local/lib/python3.7/dist-packages (from requests->facenet-pytorch) (3.0.4)\n",
            "Requirement already satisfied: certifi>=2017.4.17 in /usr/local/lib/python3.7/dist-packages (from requests->facenet-pytorch) (2022.6.15)\n",
            "Requirement already satisfied: torch==1.12.0 in /usr/local/lib/python3.7/dist-packages (from torchvision->facenet-pytorch) (1.12.0+cu113)\n",
            "Requirement already satisfied: typing-extensions in /usr/local/lib/python3.7/dist-packages (from torchvision->facenet-pytorch) (4.1.1)\n",
            "Installing collected packages: facenet-pytorch\n",
            "Successfully installed facenet-pytorch-2.5.2\n"
          ]
        }
      ]
    },
    {
      "cell_type": "markdown",
      "source": [
        "#####Verify how it works on a single image."
      ],
      "metadata": {
        "id": "-6ZIXp311zit"
      }
    },
    {
      "cell_type": "code",
      "source": [
        "from PIL import Image\n",
        "from facenet_pytorch import MTCNN, training"
      ],
      "metadata": {
        "id": "vYinqOGujc-f"
      },
      "execution_count": 17,
      "outputs": []
    },
    {
      "cell_type": "code",
      "source": [
        "# Face detector\n",
        "mtcnn = MTCNN(margin=15, \n",
        "              select_largest=False, \n",
        "              post_process=False, \n",
        "              device=device)\n",
        "\n",
        "# Processing an image\n",
        "img = Image.open(\"/content/data/lfw-py/lfw_funneled/Bill_Clinton/Bill_Clinton_0004.jpg\")\n",
        "\n",
        "# Detect face, returning cropped and prewhitened image tensor\n",
        "face = mtcnn(img)"
      ],
      "metadata": {
        "id": "Cdb3_FjqjfDd"
      },
      "execution_count": 18,
      "outputs": []
    },
    {
      "cell_type": "code",
      "source": [
        "# Visualize\n",
        "plt.imshow(face.permute(1, 2, 0).int().numpy())\n",
        "plt.axis('off');\n",
        "plt.show()"
      ],
      "metadata": {
        "id": "_p0KgGjRjhQ1",
        "colab": {
          "base_uri": "https://localhost:8080/",
          "height": 248
        },
        "outputId": "5134d401-90f7-46a9-9a8f-25b3d669c9ad"
      },
      "execution_count": 19,
      "outputs": [
        {
          "output_type": "display_data",
          "data": {
            "text/plain": [
              "<Figure size 432x288 with 1 Axes>"
            ],
            "image/png": "[encoded data removed]"
          },
          "metadata": {
            "needs_background": "light"
          }
        }
      ]
    },
    {
      "cell_type": "markdown",
      "source": [
        "#####Now we works with batched detection."
      ],
      "metadata": {
        "id": "4TOoTNrDjnzU"
      }
    },
    {
      "cell_type": "markdown",
      "source": [
        "######1. Set parameters."
      ],
      "metadata": {
        "id": "VNf_G0Rnd0RT"
      }
    },
    {
      "cell_type": "code",
      "source": [
        "data_dir = '/content/data/lfw-py/lfw_funneled'\n",
        "pairs_path = '/content/data/lfw-py/lfw_funneled/pairs.txt'"
      ],
      "metadata": {
        "id": "9ko7a5AL3FsP"
      },
      "execution_count": 20,
      "outputs": []
    },
    {
      "cell_type": "code",
      "source": [
        "print('Running on device: {}'.format(device))"
      ],
      "metadata": {
        "colab": {
          "base_uri": "https://localhost:8080/"
        },
        "id": "CiCuGPhX3P1H",
        "outputId": "5be34f9b-563a-40e5-bad7-7f141fee6035"
      },
      "execution_count": 21,
      "outputs": [
        {
          "output_type": "stream",
          "name": "stdout",
          "text": [
            "Running on device: cuda\n"
          ]
        }
      ]
    },
    {
      "cell_type": "markdown",
      "source": [
        "######2. Build the MTCNN."
      ],
      "metadata": {
        "id": "2jKa_M72d4CS"
      }
    },
    {
      "cell_type": "code",
      "source": [
        "mtcnn = MTCNN(\n",
        "    image_size=160,\n",
        "    margin=15,\n",
        "    device=device,\n",
        "    selection_method='center_weighted_size'\n",
        ")"
      ],
      "metadata": {
        "id": "0l-O8oBf3ZbT"
      },
      "execution_count": 58,
      "outputs": []
    },
    {
      "cell_type": "markdown",
      "source": [
        "######3. Define the data loader."
      ],
      "metadata": {
        "id": "xCTtBeEHd8qZ"
      }
    },
    {
      "cell_type": "code",
      "source": [
        "input_loader = datasets.ImageFolder(root=data_dir, transform=None)"
      ],
      "metadata": {
        "id": "uT0DrgZh3bNu"
      },
      "execution_count": 51,
      "outputs": []
    },
    {
      "cell_type": "markdown",
      "source": [
        "######4. Overwrite class labels with path used to save output."
      ],
      "metadata": {
        "id": "SMCHC8PrfOXP"
      }
    },
    {
      "cell_type": "code",
      "source": [
        "# Overwriting class labels with path\n",
        "input_loader.samples = [(p, p) for p, _ in input_loader.samples]\n",
        "\n",
        "# Data loader for the input set of images\n",
        "img_loader = DataLoader(input_loader, \n",
        "                    batch_size= BATCH_SIZE, \n",
        "                    num_workers= WORKERS,\n",
        "                    collate_fn=training.collate_pil\n",
        "          )"
      ],
      "metadata": {
        "id": "y-T7Inyj3dIW"
      },
      "execution_count": 52,
      "outputs": []
    },
    {
      "cell_type": "markdown",
      "source": [
        "######5. Build a new folder containing cropped images of faces. Now we works on batches."
      ],
      "metadata": {
        "id": "NRYlNmJQfr6d"
      }
    },
    {
      "cell_type": "code",
      "source": [
        "# (Optional) Command to ignore warnings\n",
        "import warnings\n",
        "warnings.filterwarnings(\"ignore\")"
      ],
      "metadata": {
        "id": "w5WCaSatCr_r"
      },
      "execution_count": 25,
      "outputs": []
    },
    {
      "cell_type": "code",
      "source": [
        "face_paths = []\n",
        "\n",
        "print(\"[INFO] Processing...\")\n",
        "for i, (images, b_paths) in enumerate(img_loader):\n",
        "    faces = [p.replace(data_dir, data_dir + '_faces') for p in b_paths]\n",
        "    mtcnn(images, save_path=faces)\n",
        "    face_paths.extend(faces)\n",
        "    print('\\rCropping faces of batch {} of {}'.format(i+1, len(img_loader)), end='')\n",
        "print(\"\\n[INFO] Process ended.\")"
      ],
      "metadata": {
        "id": "CzclX7IR3fiC",
        "colab": {
          "base_uri": "https://localhost:8080/"
        },
        "outputId": "1edeaa11-18f2-4786-9d63-9323bafb7516"
      },
      "execution_count": 60,
      "outputs": [
        {
          "output_type": "stream",
          "name": "stdout",
          "text": [
            "[INFO] Processing...\n",
            "Cropping faces of batch 828 of 828\n",
            "[INFO] Process ended.\n"
          ]
        }
      ]
    },
    {
      "cell_type": "markdown",
      "source": [
        "######6. Remove MTCNN to reduce GPU memory usage and empty CUDA cache."
      ],
      "metadata": {
        "id": "TtVG6G7sh1J4"
      }
    },
    {
      "cell_type": "code",
      "source": [
        "del mtcnn\n",
        "torch.cuda.empty_cache()"
      ],
      "metadata": {
        "id": "T--JlOxH3mhH"
      },
      "execution_count": 27,
      "outputs": []
    },
    {
      "cell_type": "markdown",
      "source": [
        "##2. Embedding"
      ],
      "metadata": {
        "id": "sOXW9RVicxvw"
      }
    },
    {
      "cell_type": "markdown",
      "source": [
        "We will give the output faces of MTCNN as inputs to Inception net, in order to obtain embeddings of faces."
      ],
      "metadata": {
        "id": "bSB1jYjudora"
      }
    },
    {
      "cell_type": "markdown",
      "source": [
        "###2.1 Prepare input for Inception-ResNet v1"
      ],
      "metadata": {
        "id": "Wr63Vlq1c4kJ"
      }
    },
    {
      "cell_type": "markdown",
      "source": [
        "We will use Inception-Resnet v1 instead of the second version. Althought their working principles are the same, Inception-ResNet v2 is more accurate, but has a higher computational cost than the previous Inception-ResNet v1 network.\n",
        "\n",
        "This network is a hybrid between the Inception v4 and ResNet, the key functionality of the Inception-ResNet is that the output of the inception module is added to the input."
      ],
      "metadata": {
        "id": "m1iiSycNEkbo"
      }
    },
    {
      "cell_type": "code",
      "source": [
        "from torch.utils.data import SubsetRandomSampler, SequentialSampler\n",
        "from facenet_pytorch import InceptionResnetV1, fixed_image_standardization, extract_face"
      ],
      "metadata": {
        "id": "gPoA-7LYee0z"
      },
      "execution_count": 61,
      "outputs": []
    },
    {
      "cell_type": "code",
      "source": [
        "# Dataset and dataloader from output faces of MTCNN\n",
        "\n",
        "transform = transforms.Compose([\n",
        "  np.float32,\n",
        "  transforms.ToTensor(),\n",
        "  fixed_image_standardization\n",
        "])\n",
        "\n",
        "dataset = datasets.ImageFolder(root=data_dir + '_faces', transform=transform)\n",
        "\n",
        "face_loader = DataLoader(\n",
        "    dataset,\n",
        "    num_workers = WORKERS,\n",
        "    batch_size = BATCH_SIZE,\n",
        "    sampler = SequentialSampler(dataset)\n",
        ")"
      ],
      "metadata": {
        "id": "DYtA-rUVdkrI"
      },
      "execution_count": 29,
      "outputs": []
    },
    {
      "cell_type": "markdown",
      "source": [
        "###2.2 Load a pretrained net for embedding"
      ],
      "metadata": {
        "id": "_6PsY04qfm_8"
      }
    },
    {
      "cell_type": "markdown",
      "source": [
        "We load a model trained on large dataset VGGFace2."
      ],
      "metadata": {
        "id": "c3NF3xlSDJwj"
      }
    },
    {
      "cell_type": "code",
      "source": [
        "resnet = InceptionResnetV1(\n",
        "    classify=False,\n",
        "    pretrained='vggface2'\n",
        ").to(device).eval()"
      ],
      "metadata": {
        "id": "LGBjvwE4f4w0",
        "colab": {
          "base_uri": "https://localhost:8080/",
          "height": 49,
          "referenced_widgets": [
            "63999eecf409451982d6aad7b73e6283",
            "33a5e82699b048deaad4bd89707fe7f4",
            "235c5505007f47dabd2a5301861b617e",
            "c3e45e8e7bc0409bb4603e6d2cc4ad33",
            "6e300923a3ce41b69ca7815adf959ef5",
            "c743a96a426b4ee09fc7c7c4ea454015",
            "dc04e520c31c4e339eb3618f93a6e471",
            "1cddec34764844fcb9f848ae6ff8418a",
            "b94fd5c8b3a34c97be85d0a488700480",
            "491b6f1224684bd4b31d1c95e749a205",
            "cb56c048d48f43da8cc9184765232871"
          ]
        },
        "outputId": "5035626f-bc51-4224-c83b-ae0952f2ab98"
      },
      "execution_count": 30,
      "outputs": [
        {
          "output_type": "display_data",
          "data": {
            "text/plain": [
              "  0%|          | 0.00/107M [00:00<?, ?B/s]"
            ],
            "application/vnd.jupyter.widget-view+json": {
              "version_major": 2,
              "version_minor": 0,
              "model_id": "63999eecf409451982d6aad7b73e6283"
            }
          },
          "metadata": {}
        }
      ]
    },
    {
      "cell_type": "markdown",
      "source": [
        "###2.3 Calculate embeddings "
      ],
      "metadata": {
        "id": "Hap8BjmqgexJ"
      }
    },
    {
      "cell_type": "markdown",
      "source": [
        "We are going to calculate 512-bit embeddings, instead of the 128-bit embeddngs described in FaceNet paper."
      ],
      "metadata": {
        "id": "XW-luwqfGwoU"
      }
    },
    {
      "cell_type": "code",
      "source": [
        "# Arrays of 13233 elements each one (number of elements of dataset)\n",
        "classes = [] # Labels in the range [0,5748] (5749 possible identities)\n",
        "embeddings = [] # 512-bit elements\n",
        "\n",
        "print(\"[INFO] Processing...\")\n",
        "i=0\n",
        "with torch.no_grad():\n",
        "  for faces, labels in face_loader:\n",
        "    faces = faces.to(device)\n",
        "    i += 1\n",
        "\n",
        "    #Batch embeddings\n",
        "    print('\\rCalculating embeddings of batch {} of {}'.format(i, len(face_loader)), end='')\n",
        "    b_embd = resnet(faces)\n",
        "    b_embd = b_embd.to('cpu').numpy()\n",
        "    classes.extend(labels.numpy())\n",
        "    embeddings.extend(b_embd)\n",
        "print(\"\\n[INFO] Process ended.\")"
      ],
      "metadata": {
        "id": "KzfVqmGbgo8m",
        "colab": {
          "base_uri": "https://localhost:8080/"
        },
        "outputId": "1e0b302d-a725-4ecd-f605-68a8c7b56051"
      },
      "execution_count": 68,
      "outputs": [
        {
          "output_type": "stream",
          "name": "stdout",
          "text": [
            "[INFO] Processing...\n",
            "Calculating embeddings of batch 828 of 828\n",
            "[INFO] Process ended.\n"
          ]
        }
      ]
    },
    {
      "cell_type": "markdown",
      "source": [
        "###2.4 Save embeddings to relative paths"
      ],
      "metadata": {
        "id": "89xD8gWxiitG"
      }
    },
    {
      "cell_type": "code",
      "source": [
        "embeddings_dict = dict(zip(face_paths,embeddings))"
      ],
      "metadata": {
        "id": "2QDxtbgBiVbN"
      },
      "execution_count": 32,
      "outputs": []
    },
    {
      "cell_type": "markdown",
      "source": [
        "##3. Classification"
      ],
      "metadata": {
        "id": "C05QUFfnc0MF"
      }
    },
    {
      "cell_type": "markdown",
      "source": [
        "###3.1 Importing necessary dependencies"
      ],
      "metadata": {
        "id": "tFcmpEP4QauD"
      }
    },
    {
      "cell_type": "code",
      "source": [
        "import math\n",
        "from sklearn.model_selection import KFold\n",
        "from scipy import interpolate"
      ],
      "metadata": {
        "id": "-HYJkOOkocta"
      },
      "execution_count": 33,
      "outputs": []
    },
    {
      "cell_type": "markdown",
      "source": [
        "###3.2 Define a metric"
      ],
      "metadata": {
        "id": "eEdIt07zQf_V"
      }
    },
    {
      "cell_type": "code",
      "source": [
        "def distance(embeddings1, embeddings2, distance_metric=0):\n",
        "    if distance_metric==0:\n",
        "        # Euclidean distance\n",
        "        diff = np.subtract(embeddings1, embeddings2)\n",
        "        dist = np.sum(np.square(diff),1)\n",
        "    elif distance_metric==1:\n",
        "        # Distance based on cosine similarity\n",
        "        dot = np.sum(np.multiply(embeddings1, embeddings2), axis=1)\n",
        "        norm = np.linalg.norm(embeddings1, axis=1) * np.linalg.norm(embeddings2, axis=1)\n",
        "        similarity = dot / norm\n",
        "        dist = np.arccos(similarity) / math.pi\n",
        "    else:\n",
        "        raise 'Undefined distance metric %d' % distance_metric\n",
        "\n",
        "    return dist"
      ],
      "metadata": {
        "id": "jeebWpumWFsE"
      },
      "execution_count": 34,
      "outputs": []
    },
    {
      "cell_type": "markdown",
      "source": [
        "###3.3 Calculate ROC (Receiver Operating Characteristic) for the classifier"
      ],
      "metadata": {
        "id": "JiihF9znN4QQ"
      }
    },
    {
      "cell_type": "markdown",
      "source": [
        "Define a function to calculate TPR (True Positive Rate), FPR (False Positive Rate) and accuracy."
      ],
      "metadata": {
        "id": "J4J4feEsX47Q"
      }
    },
    {
      "cell_type": "code",
      "source": [
        "def calculate_accuracy(threshold, dist, actual_issame):\n",
        "    # Verify if dist < threshold\n",
        "    predict_issame = np.less(dist, threshold)\n",
        "    tp = np.sum(np.logical_and(predict_issame, actual_issame))\n",
        "    fp = np.sum(np.logical_and(predict_issame, np.logical_not(actual_issame)))\n",
        "    tn = np.sum(np.logical_and(np.logical_not(predict_issame), np.logical_not(actual_issame)))\n",
        "    fn = np.sum(np.logical_and(np.logical_not(predict_issame), actual_issame))\n",
        "\n",
        "    is_fp = np.logical_and(predict_issame, np.logical_not(actual_issame))\n",
        "    is_fn = np.logical_and(np.logical_not(predict_issame), actual_issame)\n",
        "\n",
        "    # True positive rate\n",
        "    tpr = 0 if (tp+fn==0) else float(tp) / float(tp+fn)\n",
        "    # False positive rate\n",
        "    fpr = 0 if (fp+tn==0) else float(fp) / float(fp+tn)\n",
        "    # Accuracy\n",
        "    acc = float(tp+tn)/dist.size\n",
        "    return tpr, fpr, acc, is_fp, is_fn"
      ],
      "metadata": {
        "id": "23o4rYZiX3R2"
      },
      "execution_count": 35,
      "outputs": []
    },
    {
      "cell_type": "markdown",
      "source": [
        "Calculate ROC."
      ],
      "metadata": {
        "id": "XHY9ECefYHOc"
      }
    },
    {
      "cell_type": "code",
      "source": [
        "# We use a k-Fold Cross-Validation with k=10\n",
        "def calculate_roc(thresholds, embeddings1, embeddings2, actual_issame, folds=10, distance_metric=0, subtract_mean=False):\n",
        "    assert(embeddings1.shape[0] == embeddings2.shape[0])\n",
        "    assert(embeddings1.shape[1] == embeddings2.shape[1])\n",
        "    n_pairs = min(len(actual_issame), embeddings1.shape[0])\n",
        "    n_thresholds = len(thresholds)\n",
        "    # K-Fold CV\n",
        "    k_fold = KFold(n_splits=folds, shuffle=False)\n",
        "\n",
        "    # True positive rates\n",
        "    tprs = np.zeros((folds,n_thresholds))\n",
        "    # False positive rates\n",
        "    fprs = np.zeros((folds,n_thresholds))\n",
        "    # Accuracy array (length of folds) \n",
        "    accuracy = np.zeros((folds))\n",
        "\n",
        "    is_false_positive = []\n",
        "    is_false_negative = []\n",
        "\n",
        "    # Indices from 0 to n_pairs - 1\n",
        "    indices = np.arange(n_pairs)\n",
        "\n",
        "    for fold_idx, (train_set, test_set) in enumerate(k_fold.split(indices)):\n",
        "        if subtract_mean:\n",
        "            mean = np.mean(np.concatenate([embeddings1[train_set], embeddings2[train_set]]), axis=0)\n",
        "        else:\n",
        "          mean = 0.0\n",
        "        # Calculate Euclidean distance (distance_metric=0)\n",
        "        dist = distance(embeddings1-mean, embeddings2-mean, distance_metric)\n",
        "\n",
        "        # Find the best threshold for the fold\n",
        "        acc_train = np.zeros((n_thresholds))\n",
        "        for threshold_idx, threshold in enumerate(thresholds):\n",
        "            _, _, acc_train[threshold_idx], _ ,_ = calculate_accuracy(threshold, dist[train_set], actual_issame[train_set])\n",
        "        best_threshold_index = np.argmax(acc_train)\n",
        "        for threshold_idx, threshold in enumerate(thresholds):\n",
        "            tprs[fold_idx,threshold_idx], fprs[fold_idx,threshold_idx], _, _, _ = calculate_accuracy(threshold, dist[test_set], actual_issame[test_set])\n",
        "        _, _, accuracy[fold_idx], is_fp, is_fn = calculate_accuracy(thresholds[best_threshold_index], dist[test_set], actual_issame[test_set])\n",
        "\n",
        "        tpr = np.mean(tprs,0)\n",
        "        fpr = np.mean(fprs,0)\n",
        "        is_false_positive.extend(is_fp)\n",
        "        is_false_negative.extend(is_fn)\n",
        "\n",
        "    return tpr, fpr, accuracy, is_false_positive, is_false_negative"
      ],
      "metadata": {
        "id": "Z-wSCe-bXJeO"
      },
      "execution_count": 36,
      "outputs": []
    },
    {
      "cell_type": "markdown",
      "source": [
        "###3.4 Calculate performances of the classifier"
      ],
      "metadata": {
        "id": "vW1rLhe6fVpd"
      }
    },
    {
      "cell_type": "markdown",
      "source": [
        "Define a function to calculate TAR (True Acceptance Rate) and FAR (False Acceptance Rate)."
      ],
      "metadata": {
        "id": "8yoDa-T9ft12"
      }
    },
    {
      "cell_type": "code",
      "source": [
        "def calculate_val_far(threshold, dist, actual_issame):\n",
        "    # Verify if dist < threshold\n",
        "    predict_issame = np.less(dist, threshold)\n",
        "    # True acceptance\n",
        "    true_accept = np.sum(np.logical_and(predict_issame, actual_issame))\n",
        "    # False acceptance\n",
        "    false_accept = np.sum(np.logical_and(predict_issame, np.logical_not(actual_issame)))\n",
        "\n",
        "    n_same = np.sum(actual_issame)\n",
        "    n_diff = np.sum(np.logical_not(actual_issame))\n",
        "\n",
        "    # True Acceptance Rate (TAR)\n",
        "    val = float(true_accept) / float(n_same)\n",
        "    # False Acceptance Rate (FAR)\n",
        "    far = float(false_accept) / float(n_diff)\n",
        "\n",
        "    return val, far"
      ],
      "metadata": {
        "id": "-0ckkamIfhv9"
      },
      "execution_count": 37,
      "outputs": []
    },
    {
      "cell_type": "markdown",
      "source": [
        "Calculate performances."
      ],
      "metadata": {
        "id": "jKwJsbP6fuo5"
      }
    },
    {
      "cell_type": "code",
      "source": [
        "def calculate_val(thresholds, embeddings1, embeddings2, actual_issame, far_target, folds=10, distance_metric=0, subtract_mean=False):\n",
        "    assert(embeddings1.shape[0] == embeddings2.shape[0])\n",
        "    assert(embeddings1.shape[1] == embeddings2.shape[1])\n",
        "    n_pairs = min(len(actual_issame), embeddings1.shape[0])\n",
        "    n_thresholds = len(thresholds)\n",
        "    k_fold = KFold(n_splits=folds, shuffle=False)\n",
        "\n",
        "    val = np.zeros(folds)\n",
        "    far = np.zeros(folds)\n",
        "\n",
        "    # Indices from 0 to n_pairs - 1\n",
        "    indices = np.arange(n_pairs)\n",
        "\n",
        "    for fold_idx, (train_set, test_set) in enumerate(k_fold.split(indices)):\n",
        "        if subtract_mean:\n",
        "            mean = np.mean(np.concatenate([embeddings1[train_set], embeddings2[train_set]]), axis=0)\n",
        "        else:\n",
        "          mean = 0.0\n",
        "        dist = distance(embeddings1-mean, embeddings2-mean, distance_metric)\n",
        "\n",
        "        # Find the threshold that gives FAR = far_target (given as parameter)\n",
        "        far_train = np.zeros(n_thresholds)\n",
        "        for threshold_idx, threshold in enumerate(thresholds):\n",
        "            _, far_train[threshold_idx] = calculate_val_far(threshold, dist[train_set], actual_issame[train_set])\n",
        "        if np.max(far_train)>=far_target:\n",
        "            # Interpolation (1-D function)\n",
        "            f = interpolate.interp1d(far_train, thresholds, kind='slinear')\n",
        "            threshold = f(far_target)\n",
        "        else:\n",
        "            threshold = 0.0\n",
        "\n",
        "        val[fold_idx], far[fold_idx] = calculate_val_far(threshold, dist[test_set], actual_issame[test_set])\n",
        "\n",
        "    val_mean = np.mean(val)\n",
        "    far_mean = np.mean(far)\n",
        "    val_std = np.std(val)\n",
        "    \n",
        "    return val_mean, val_std, far_mean"
      ],
      "metadata": {
        "id": "xAVNkXj9XAiT"
      },
      "execution_count": 38,
      "outputs": []
    },
    {
      "cell_type": "markdown",
      "source": [
        "###3.5 Evaluate the model on LFW dataset"
      ],
      "metadata": {
        "id": "KUcLOhmujANr"
      }
    },
    {
      "cell_type": "markdown",
      "source": [
        "We evaluate performances of Face Verification task, based on comparison of embedding pairs."
      ],
      "metadata": {
        "id": "N6VBy3EamoB3"
      }
    },
    {
      "cell_type": "code",
      "source": [
        "def evaluate(embeddings, actual_issame, folds=10, distance_metric=0, subtract_mean=False):\n",
        "    # Calculate evaluation metrics\n",
        "    thresholds = np.arange(0, 4, 0.01)\n",
        "    embeddings1 = embeddings[0::2]\n",
        "    embeddings2 = embeddings[1::2]\n",
        "\n",
        "\n",
        "    # Calculate ROC\n",
        "    tpr, fpr, accuracy, fp, fn  = calculate_roc(thresholds, embeddings1, embeddings2,\n",
        "        np.asarray(actual_issame), folds=folds, distance_metric=distance_metric, subtract_mean=subtract_mean)\n",
        "    \n",
        "    thresholds = np.arange(0, 4, 0.001)\n",
        "\n",
        "    # Calculate validation\n",
        "    val, val_std, far = calculate_val(thresholds, embeddings1, embeddings2,\n",
        "        np.asarray(actual_issame), 1e-3, folds=folds, distance_metric=distance_metric, subtract_mean=subtract_mean)\n",
        "    \n",
        "    return tpr, fpr, accuracy, val, val_std, far, fp, fn"
      ],
      "metadata": {
        "id": "sGJU-b4oW0RI"
      },
      "execution_count": 64,
      "outputs": []
    },
    {
      "cell_type": "markdown",
      "source": [
        "Define some utility functions."
      ],
      "metadata": {
        "id": "niigKemekAPL"
      }
    },
    {
      "cell_type": "code",
      "source": [
        "def read_pairs(pairs_filename):\n",
        "    pairs = []\n",
        "    with open(pairs_filename, 'r') as f:\n",
        "        for line in f.readlines()[1:]:\n",
        "            pair = line.strip().split()\n",
        "            pairs.append(pair)\n",
        "    return np.array(pairs, dtype=object)"
      ],
      "metadata": {
        "id": "fqCVBr7ej_KF"
      },
      "execution_count": 40,
      "outputs": []
    },
    {
      "cell_type": "code",
      "source": [
        "def add_extension(path):\n",
        "    if os.path.exists(path+'.jpg'):\n",
        "        return path+'.jpg'\n",
        "    elif os.path.exists(path+'.png'):\n",
        "        return path+'.png'\n",
        "    else:\n",
        "        raise RuntimeError('No file \"%s\" with extension png or jpg.' % path)"
      ],
      "metadata": {
        "id": "MSfJp6yRW0HN"
      },
      "execution_count": 41,
      "outputs": []
    },
    {
      "cell_type": "code",
      "source": [
        "def get_paths(lfw_dir, pairs):\n",
        "    n_skipped_pairs = 0\n",
        "    path_list = []\n",
        "    issame_list = []\n",
        "    for pair in pairs:\n",
        "        if len(pair) == 3:\n",
        "            path0 = add_extension(os.path.join(lfw_dir, pair[0], pair[0] + '_' + '%04d' % int(pair[1])))\n",
        "            path1 = add_extension(os.path.join(lfw_dir, pair[0], pair[0] + '_' + '%04d' % int(pair[2])))\n",
        "            issame = True\n",
        "        elif len(pair) == 4:\n",
        "            path0 = add_extension(os.path.join(lfw_dir, pair[0], pair[0] + '_' + '%04d' % int(pair[1])))\n",
        "            path1 = add_extension(os.path.join(lfw_dir, pair[2], pair[2] + '_' + '%04d' % int(pair[3])))\n",
        "            issame = False\n",
        "        # Only add the pair if both paths exist\n",
        "        if os.path.exists(path0) and os.path.exists(path1):  \n",
        "            path_list += (path0,path1)\n",
        "            issame_list.append(issame)\n",
        "        else:\n",
        "            n_skipped_pairs += 1\n",
        "    if n_skipped_pairs>0:\n",
        "        print('Skipped %d image pairs' % n_skipped_pairs)\n",
        "\n",
        "    return path_list, issame_list"
      ],
      "metadata": {
        "id": "UqZAGMTRWvAk"
      },
      "execution_count": 42,
      "outputs": []
    },
    {
      "cell_type": "markdown",
      "source": [
        "Evaluate the model."
      ],
      "metadata": {
        "id": "TaVWcii0kEdE"
      }
    },
    {
      "cell_type": "code",
      "source": [
        "pairs = read_pairs(pairs_path)\n",
        "path_list, issame_list = get_paths(data_dir+'_faces', pairs)\n",
        "embeddings = np.array([embeddings_dict[path] for path in path_list])\n",
        "\n",
        "tpr, fpr, accuracy, val, val_std, far, fp, fn = evaluate(embeddings, issame_list)"
      ],
      "metadata": {
        "id": "_R9GiAANWhk5"
      },
      "execution_count": 43,
      "outputs": []
    },
    {
      "cell_type": "code",
      "source": [
        "print(\"Accuracy for each of the 10 folds:\\n\")\n",
        "print(accuracy,\"\\n\")\n",
        "print(\"Accuracy mean: \")\n",
        "np.mean(accuracy)"
      ],
      "metadata": {
        "colab": {
          "base_uri": "https://localhost:8080/"
        },
        "id": "Bl0AC-6zWH-Z",
        "outputId": "1cb3f15e-f622-4625-833b-297c2669ef4d"
      },
      "execution_count": 71,
      "outputs": [
        {
          "output_type": "stream",
          "name": "stdout",
          "text": [
            "Accuracy for each of the 10 folds:\n",
            "\n",
            "[0.99666667 0.99333333 0.99166667 0.985      0.99       0.99666667\n",
            " 0.99       0.99666667 0.99166667 0.99833333] \n",
            "\n",
            "Accuracy mean: \n"
          ]
        },
        {
          "output_type": "execute_result",
          "data": {
            "text/plain": [
              "0.993"
            ]
          },
          "metadata": {},
          "execution_count": 71
        }
      ]
    },
    {
      "cell_type": "code",
      "source": [
        "print(\"True Positive Rate (TPR):\", np.mean(tpr))\n",
        "print(\"False Positive Rate (FPR):\", np.mean(fpr))\n",
        "print('Validation: {} +/- {}'.format(\"%.4f\" % round(val,4), \"%.4f\" % round(val_std,4)))\n",
        "print(\"False Acceptance Rate (FAR):\", far)"
      ],
      "metadata": {
        "colab": {
          "base_uri": "https://localhost:8080/"
        },
        "id": "28Ai2hMfndBI",
        "outputId": "54056ed7-a2cd-4dc1-ea0f-4e28b0cf0967"
      },
      "execution_count": 45,
      "outputs": [
        {
          "output_type": "stream",
          "name": "stdout",
          "text": [
            "True Positive Rate (TPR): 0.8827708333333334\n",
            "False Positive Rate (FPR): 0.5107408333333333\n",
            "Validation: 0.9840 +/- 0.0104\n",
            "False Acceptance Rate (FAR): 0.001\n"
          ]
        }
      ]
    }
  ]
}